{
 "cells": [
  {
   "cell_type": "markdown",
   "metadata": {},
   "source": [
    "# Artificial Neural Network (ANN)\n",
    "# Perception > yapay nöron"
   ]
  },
  {
   "cell_type": "markdown",
   "metadata": {},
   "source": [
    "AKTİVASYON FONKSİYONLARI\n",
    "\n",
    "# SIGMOID FUNCTION\n",
    "0-1 ARASINDA DEGER ALIR\n",
    "SINIFLANDIRMA PROBLEMLERİNDE KULLANIRIZ.\n",
    "# Tanh FUNCTION (hiperbolik tanjant)\n",
    "-1-+1 arasında değer alır.\n",
    "Negatif değerlere daha geniş bir kapsam sağlar.\n",
    "genelde sınıflandırma operasyonlarında kullanılır.\n",
    "# ReLU (Rectified Linear Unit) \n",
    "0-sonsuz arasında deger alır\n",
    "Derin öğrenme alanında sıklıkla karşımıza çıkar\n",
    "# Linear Function\n",
    "f(x) = x\n",
    "sonsuz deger alabilir\n",
    "\n"
   ]
  },
  {
   "cell_type": "code",
   "execution_count": 1,
   "metadata": {},
   "outputs": [],
   "source": [
    "import numpy as np\n",
    "import pandas as pd\n",
    "import matplotlib.pyplot as plt\n",
    "import seaborn as sbn"
   ]
  },
  {
   "cell_type": "code",
   "execution_count": 2,
   "metadata": {},
   "outputs": [],
   "source": [
    "fiyat = np.random.randint(690,895,300)\n",
    "yıl = np.random.randint(2015,2020,300)\n",
    "km = np.random.randint(11000,78000,300)\n",
    "liste = list(zip(yıl,km,fiyat))"
   ]
  },
  {
   "cell_type": "raw",
   "metadata": {},
   "source": []
  },
  {
   "cell_type": "code",
   "execution_count": 3,
   "metadata": {},
   "outputs": [
    {
     "data": {
      "text/html": [
       "<div>\n",
       "<style scoped>\n",
       "    .dataframe tbody tr th:only-of-type {\n",
       "        vertical-align: middle;\n",
       "    }\n",
       "\n",
       "    .dataframe tbody tr th {\n",
       "        vertical-align: top;\n",
       "    }\n",
       "\n",
       "    .dataframe thead th {\n",
       "        text-align: right;\n",
       "    }\n",
       "</style>\n",
       "<table border=\"1\" class=\"dataframe\">\n",
       "  <thead>\n",
       "    <tr style=\"text-align: right;\">\n",
       "      <th></th>\n",
       "      <th>ÜRETİM YILI</th>\n",
       "      <th>KM BİLGİSİ (km)</th>\n",
       "      <th>FİYATI (TL)</th>\n",
       "    </tr>\n",
       "  </thead>\n",
       "  <tbody>\n",
       "    <tr>\n",
       "      <th>0</th>\n",
       "      <td>2018</td>\n",
       "      <td>23479</td>\n",
       "      <td>721</td>\n",
       "    </tr>\n",
       "    <tr>\n",
       "      <th>1</th>\n",
       "      <td>2018</td>\n",
       "      <td>26932</td>\n",
       "      <td>741</td>\n",
       "    </tr>\n",
       "    <tr>\n",
       "      <th>2</th>\n",
       "      <td>2015</td>\n",
       "      <td>77032</td>\n",
       "      <td>829</td>\n",
       "    </tr>\n",
       "    <tr>\n",
       "      <th>3</th>\n",
       "      <td>2015</td>\n",
       "      <td>15292</td>\n",
       "      <td>714</td>\n",
       "    </tr>\n",
       "    <tr>\n",
       "      <th>4</th>\n",
       "      <td>2015</td>\n",
       "      <td>17278</td>\n",
       "      <td>889</td>\n",
       "    </tr>\n",
       "    <tr>\n",
       "      <th>...</th>\n",
       "      <td>...</td>\n",
       "      <td>...</td>\n",
       "      <td>...</td>\n",
       "    </tr>\n",
       "    <tr>\n",
       "      <th>295</th>\n",
       "      <td>2015</td>\n",
       "      <td>23711</td>\n",
       "      <td>882</td>\n",
       "    </tr>\n",
       "    <tr>\n",
       "      <th>296</th>\n",
       "      <td>2015</td>\n",
       "      <td>65068</td>\n",
       "      <td>810</td>\n",
       "    </tr>\n",
       "    <tr>\n",
       "      <th>297</th>\n",
       "      <td>2018</td>\n",
       "      <td>25448</td>\n",
       "      <td>804</td>\n",
       "    </tr>\n",
       "    <tr>\n",
       "      <th>298</th>\n",
       "      <td>2019</td>\n",
       "      <td>30226</td>\n",
       "      <td>789</td>\n",
       "    </tr>\n",
       "    <tr>\n",
       "      <th>299</th>\n",
       "      <td>2019</td>\n",
       "      <td>48066</td>\n",
       "      <td>775</td>\n",
       "    </tr>\n",
       "  </tbody>\n",
       "</table>\n",
       "<p>300 rows × 3 columns</p>\n",
       "</div>"
      ],
      "text/plain": [
       "     ÜRETİM YILI  KM BİLGİSİ (km)  FİYATI (TL)\n",
       "0           2018            23479          721\n",
       "1           2018            26932          741\n",
       "2           2015            77032          829\n",
       "3           2015            15292          714\n",
       "4           2015            17278          889\n",
       "..           ...              ...          ...\n",
       "295         2015            23711          882\n",
       "296         2015            65068          810\n",
       "297         2018            25448          804\n",
       "298         2019            30226          789\n",
       "299         2019            48066          775\n",
       "\n",
       "[300 rows x 3 columns]"
      ]
     },
     "execution_count": 3,
     "metadata": {},
     "output_type": "execute_result"
    }
   ],
   "source": [
    "fytlist = pd.DataFrame(liste,columns =[\"ÜRETİM YILI\", \"KM BİLGİSİ (km)\",\"FİYATI (TL)\"])\n",
    "fytlist\n"
   ]
  },
  {
   "cell_type": "code",
   "execution_count": 8,
   "metadata": {},
   "outputs": [],
   "source": [
    "bisiklet = pd.read_excel(\"bisiklet_fiyatlari.xlsx\")"
   ]
  },
  {
   "cell_type": "code",
   "execution_count": 9,
   "metadata": {},
   "outputs": [
    {
     "data": {
      "text/html": [
       "<div>\n",
       "<style scoped>\n",
       "    .dataframe tbody tr th:only-of-type {\n",
       "        vertical-align: middle;\n",
       "    }\n",
       "\n",
       "    .dataframe tbody tr th {\n",
       "        vertical-align: top;\n",
       "    }\n",
       "\n",
       "    .dataframe thead th {\n",
       "        text-align: right;\n",
       "    }\n",
       "</style>\n",
       "<table border=\"1\" class=\"dataframe\">\n",
       "  <thead>\n",
       "    <tr style=\"text-align: right;\">\n",
       "      <th></th>\n",
       "      <th>Fiyat</th>\n",
       "      <th>BisikletOzellik1</th>\n",
       "      <th>BisikletOzellik2</th>\n",
       "    </tr>\n",
       "  </thead>\n",
       "  <tbody>\n",
       "    <tr>\n",
       "      <th>0</th>\n",
       "      <td>807.673876</td>\n",
       "      <td>1749.628226</td>\n",
       "      <td>1749.590668</td>\n",
       "    </tr>\n",
       "    <tr>\n",
       "      <th>1</th>\n",
       "      <td>959.227520</td>\n",
       "      <td>1748.007826</td>\n",
       "      <td>1751.824206</td>\n",
       "    </tr>\n",
       "    <tr>\n",
       "      <th>2</th>\n",
       "      <td>718.020033</td>\n",
       "      <td>1750.122967</td>\n",
       "      <td>1747.977026</td>\n",
       "    </tr>\n",
       "    <tr>\n",
       "      <th>3</th>\n",
       "      <td>945.668885</td>\n",
       "      <td>1749.916440</td>\n",
       "      <td>1750.771646</td>\n",
       "    </tr>\n",
       "    <tr>\n",
       "      <th>4</th>\n",
       "      <td>955.542968</td>\n",
       "      <td>1750.780519</td>\n",
       "      <td>1750.592430</td>\n",
       "    </tr>\n",
       "    <tr>\n",
       "      <th>5</th>\n",
       "      <td>950.221425</td>\n",
       "      <td>1749.463071</td>\n",
       "      <td>1751.099011</td>\n",
       "    </tr>\n",
       "    <tr>\n",
       "      <th>6</th>\n",
       "      <td>972.099912</td>\n",
       "      <td>1750.482746</td>\n",
       "      <td>1750.778662</td>\n",
       "    </tr>\n",
       "    <tr>\n",
       "      <th>7</th>\n",
       "      <td>730.747018</td>\n",
       "      <td>1750.724858</td>\n",
       "      <td>1748.037351</td>\n",
       "    </tr>\n",
       "    <tr>\n",
       "      <th>8</th>\n",
       "      <td>653.006430</td>\n",
       "      <td>1750.029061</td>\n",
       "      <td>1747.332994</td>\n",
       "    </tr>\n",
       "    <tr>\n",
       "      <th>9</th>\n",
       "      <td>1108.363012</td>\n",
       "      <td>1749.834880</td>\n",
       "      <td>1752.790342</td>\n",
       "    </tr>\n",
       "    <tr>\n",
       "      <th>10</th>\n",
       "      <td>1092.432411</td>\n",
       "      <td>1753.674957</td>\n",
       "      <td>1750.855601</td>\n",
       "    </tr>\n",
       "    <tr>\n",
       "      <th>11</th>\n",
       "      <td>831.901730</td>\n",
       "      <td>1750.403934</td>\n",
       "      <td>1749.236900</td>\n",
       "    </tr>\n",
       "    <tr>\n",
       "      <th>12</th>\n",
       "      <td>1050.644778</td>\n",
       "      <td>1749.482545</td>\n",
       "      <td>1752.425774</td>\n",
       "    </tr>\n",
       "    <tr>\n",
       "      <th>13</th>\n",
       "      <td>932.457666</td>\n",
       "      <td>1751.350257</td>\n",
       "      <td>1749.893437</td>\n",
       "    </tr>\n",
       "    <tr>\n",
       "      <th>14</th>\n",
       "      <td>827.461885</td>\n",
       "      <td>1748.815151</td>\n",
       "      <td>1750.096879</td>\n",
       "    </tr>\n",
       "  </tbody>\n",
       "</table>\n",
       "</div>"
      ],
      "text/plain": [
       "          Fiyat  BisikletOzellik1  BisikletOzellik2\n",
       "0    807.673876       1749.628226       1749.590668\n",
       "1    959.227520       1748.007826       1751.824206\n",
       "2    718.020033       1750.122967       1747.977026\n",
       "3    945.668885       1749.916440       1750.771646\n",
       "4    955.542968       1750.780519       1750.592430\n",
       "5    950.221425       1749.463071       1751.099011\n",
       "6    972.099912       1750.482746       1750.778662\n",
       "7    730.747018       1750.724858       1748.037351\n",
       "8    653.006430       1750.029061       1747.332994\n",
       "9   1108.363012       1749.834880       1752.790342\n",
       "10  1092.432411       1753.674957       1750.855601\n",
       "11   831.901730       1750.403934       1749.236900\n",
       "12  1050.644778       1749.482545       1752.425774\n",
       "13   932.457666       1751.350257       1749.893437\n",
       "14   827.461885       1748.815151       1750.096879"
      ]
     },
     "execution_count": 9,
     "metadata": {},
     "output_type": "execute_result"
    }
   ],
   "source": [
    "bisiklet.head(15)"
   ]
  },
  {
   "cell_type": "code",
   "execution_count": 10,
   "metadata": {},
   "outputs": [
    {
     "data": {
      "text/plain": [
       "<seaborn.axisgrid.PairGrid at 0x16c1a5d9c88>"
      ]
     },
     "execution_count": 10,
     "metadata": {},
     "output_type": "execute_result"
    },
    {
     "data": {
      "image/png": "[encoded data removed]",
      "text/plain": [
       "<Figure size 540x540 with 12 Axes>"
      ]
     },
     "metadata": {
      "needs_background": "light"
     },
     "output_type": "display_data"
    }
   ],
   "source": [
    "sbn.pairplot(fytlist)"
   ]
  },
  {
   "cell_type": "code",
   "execution_count": 11,
   "metadata": {},
   "outputs": [
    {
     "data": {
      "text/plain": [
       "<seaborn.axisgrid.PairGrid at 0x16c1ab0cac8>"
      ]
     },
     "execution_count": 11,
     "metadata": {},
     "output_type": "execute_result"
    },
    {
     "data": {
      "image/png": "[encoded data removed]",
      "text/plain": [
       "<Figure size 540x540 with 12 Axes>"
      ]
     },
     "metadata": {
      "needs_background": "light"
     },
     "output_type": "display_data"
    }
   ],
   "source": [
    "sbn.pairplot(bisiklet)"
   ]
  },
  {
   "cell_type": "markdown",
   "metadata": {},
   "source": [
    "# VERİYİ 2 YE BÖLME (test/train)"
   ]
  },
  {
   "cell_type": "code",
   "execution_count": 12,
   "metadata": {},
   "outputs": [],
   "source": [
    "from sklearn.model_selection import train_test_split"
   ]
  },
  {
   "cell_type": "code",
   "execution_count": 13,
   "metadata": {},
   "outputs": [
    {
     "data": {
      "text/html": [
       "<div>\n",
       "<style scoped>\n",
       "    .dataframe tbody tr th:only-of-type {\n",
       "        vertical-align: middle;\n",
       "    }\n",
       "\n",
       "    .dataframe tbody tr th {\n",
       "        vertical-align: top;\n",
       "    }\n",
       "\n",
       "    .dataframe thead th {\n",
       "        text-align: right;\n",
       "    }\n",
       "</style>\n",
       "<table border=\"1\" class=\"dataframe\">\n",
       "  <thead>\n",
       "    <tr style=\"text-align: right;\">\n",
       "      <th></th>\n",
       "      <th>Fiyat</th>\n",
       "      <th>BisikletOzellik1</th>\n",
       "      <th>BisikletOzellik2</th>\n",
       "    </tr>\n",
       "  </thead>\n",
       "  <tbody>\n",
       "    <tr>\n",
       "      <th>0</th>\n",
       "      <td>807.673876</td>\n",
       "      <td>1749.628226</td>\n",
       "      <td>1749.590668</td>\n",
       "    </tr>\n",
       "    <tr>\n",
       "      <th>1</th>\n",
       "      <td>959.227520</td>\n",
       "      <td>1748.007826</td>\n",
       "      <td>1751.824206</td>\n",
       "    </tr>\n",
       "    <tr>\n",
       "      <th>2</th>\n",
       "      <td>718.020033</td>\n",
       "      <td>1750.122967</td>\n",
       "      <td>1747.977026</td>\n",
       "    </tr>\n",
       "    <tr>\n",
       "      <th>3</th>\n",
       "      <td>945.668885</td>\n",
       "      <td>1749.916440</td>\n",
       "      <td>1750.771646</td>\n",
       "    </tr>\n",
       "    <tr>\n",
       "      <th>4</th>\n",
       "      <td>955.542968</td>\n",
       "      <td>1750.780519</td>\n",
       "      <td>1750.592430</td>\n",
       "    </tr>\n",
       "    <tr>\n",
       "      <th>5</th>\n",
       "      <td>950.221425</td>\n",
       "      <td>1749.463071</td>\n",
       "      <td>1751.099011</td>\n",
       "    </tr>\n",
       "    <tr>\n",
       "      <th>6</th>\n",
       "      <td>972.099912</td>\n",
       "      <td>1750.482746</td>\n",
       "      <td>1750.778662</td>\n",
       "    </tr>\n",
       "    <tr>\n",
       "      <th>7</th>\n",
       "      <td>730.747018</td>\n",
       "      <td>1750.724858</td>\n",
       "      <td>1748.037351</td>\n",
       "    </tr>\n",
       "    <tr>\n",
       "      <th>8</th>\n",
       "      <td>653.006430</td>\n",
       "      <td>1750.029061</td>\n",
       "      <td>1747.332994</td>\n",
       "    </tr>\n",
       "    <tr>\n",
       "      <th>9</th>\n",
       "      <td>1108.363012</td>\n",
       "      <td>1749.834880</td>\n",
       "      <td>1752.790342</td>\n",
       "    </tr>\n",
       "  </tbody>\n",
       "</table>\n",
       "</div>"
      ],
      "text/plain": [
       "         Fiyat  BisikletOzellik1  BisikletOzellik2\n",
       "0   807.673876       1749.628226       1749.590668\n",
       "1   959.227520       1748.007826       1751.824206\n",
       "2   718.020033       1750.122967       1747.977026\n",
       "3   945.668885       1749.916440       1750.771646\n",
       "4   955.542968       1750.780519       1750.592430\n",
       "5   950.221425       1749.463071       1751.099011\n",
       "6   972.099912       1750.482746       1750.778662\n",
       "7   730.747018       1750.724858       1748.037351\n",
       "8   653.006430       1750.029061       1747.332994\n",
       "9  1108.363012       1749.834880       1752.790342"
      ]
     },
     "execution_count": 13,
     "metadata": {},
     "output_type": "execute_result"
    }
   ],
   "source": [
    "#train_test_split\n",
    "bisiklet.head(10)"
   ]
  },
  {
   "cell_type": "code",
   "execution_count": 16,
   "metadata": {},
   "outputs": [],
   "source": [
    "# y wx + b\n",
    "# y-> label\n",
    "y = bisiklet[\"Fiyat\"].values\n",
    "\n",
    "# x -> feature (özellik)\n",
    "x = bisiklet[[\"BisikletOzellik1\",\"BisikletOzellik2\"]]"
   ]
  },
  {
   "cell_type": "code",
   "execution_count": 17,
   "metadata": {},
   "outputs": [],
   "source": [
    "x_train, x_test, y_train, y_test = train_test_split(x,y,test_size = 0.33,random_state = 15)"
   ]
  },
  {
   "cell_type": "code",
   "execution_count": 18,
   "metadata": {},
   "outputs": [
    {
     "data": {
      "text/plain": [
       "(330, 2)"
      ]
     },
     "execution_count": 18,
     "metadata": {},
     "output_type": "execute_result"
    }
   ],
   "source": [
    "x_test.shape"
   ]
  },
  {
   "cell_type": "code",
   "execution_count": 19,
   "metadata": {},
   "outputs": [
    {
     "data": {
      "text/plain": [
       "(670, 2)"
      ]
     },
     "execution_count": 19,
     "metadata": {},
     "output_type": "execute_result"
    }
   ],
   "source": [
    "x_train.shape"
   ]
  },
  {
   "cell_type": "code",
   "execution_count": 20,
   "metadata": {},
   "outputs": [
    {
     "data": {
      "text/plain": [
       "(670,)"
      ]
     },
     "execution_count": 20,
     "metadata": {},
     "output_type": "execute_result"
    }
   ],
   "source": [
    "y_train.shape"
   ]
  },
  {
   "cell_type": "code",
   "execution_count": 21,
   "metadata": {},
   "outputs": [],
   "source": [
    " #scaling = boyutunu büyütmek veya küçültmek"
   ]
  },
  {
   "cell_type": "code",
   "execution_count": 22,
   "metadata": {},
   "outputs": [],
   "source": [
    "from sklearn.preprocessing import MinMaxScaler"
   ]
  },
  {
   "cell_type": "code",
   "execution_count": 23,
   "metadata": {},
   "outputs": [],
   "source": [
    "scalar = MinMaxScaler()"
   ]
  },
  {
   "cell_type": "code",
   "execution_count": 24,
   "metadata": {},
   "outputs": [
    {
     "data": {
      "text/plain": [
       "MinMaxScaler(copy=True, feature_range=(0, 1))"
      ]
     },
     "execution_count": 24,
     "metadata": {},
     "output_type": "execute_result"
    }
   ],
   "source": [
    "scalar.fit(x_train)"
   ]
  },
  {
   "cell_type": "code",
   "execution_count": 26,
   "metadata": {},
   "outputs": [],
   "source": [
    "x_train = scalar.transform(x_train)\n",
    "x_test = scalar.transform(x_test)"
   ]
  },
  {
   "cell_type": "code",
   "execution_count": 29,
   "metadata": {},
   "outputs": [],
   "source": [
    "import tensorflow as tf"
   ]
  },
  {
   "cell_type": "code",
   "execution_count": 30,
   "metadata": {},
   "outputs": [],
   "source": [
    "from tensorflow.keras.models import Sequential\n",
    "from tensorflow.keras.layers import Dense"
   ]
  },
  {
   "cell_type": "code",
   "execution_count": 31,
   "metadata": {},
   "outputs": [
    {
     "name": "stdout",
     "output_type": "stream",
     "text": [
      "WARNING:tensorflow:From C:\\Users\\metea\\anaconda3\\lib\\site-packages\\tensorflow\\python\\ops\\init_ops.py:1251: calling VarianceScaling.__init__ (from tensorflow.python.ops.init_ops) with dtype is deprecated and will be removed in a future version.\n",
      "Instructions for updating:\n",
      "Call initializer instance with the dtype argument instead of passing it to the constructor\n"
     ]
    }
   ],
   "source": [
    "model = Sequential()\n",
    "\n",
    "model.add(Dense(4, activation = \"relu\")) #örnek 3 tane hidden layer olacaksa 3 defa ekleriz\n",
    "model.add(Dense(4, activation = \"relu\"))\n",
    "model.add(Dense(4, activation = \"relu\"))\n",
    "\n",
    "model.add(Dense(1)) # çıktı nöronu\n",
    "model.compile(optimizer = \"rmsprop\", loss = \"mse\") #modelimiz eğitilmeye hazır."
   ]
  },
  {
   "cell_type": "code",
   "execution_count": 32,
   "metadata": {},
   "outputs": [
    {
     "name": "stdout",
     "output_type": "stream",
     "text": [
      "Epoch 1/250\n",
      "670/670 [==============================] - 1s 838us/sample - loss: 800560.7841\n",
      "Epoch 2/250\n",
      "670/670 [==============================] - 0s 27us/sample - loss: 799017.9479\n",
      "Epoch 3/250\n",
      "670/670 [==============================] - 0s 28us/sample - loss: 797991.8937\n",
      "Epoch 4/250\n",
      "670/670 [==============================] - 0s 28us/sample - loss: 797222.5791\n",
      "Epoch 5/250\n",
      "670/670 [==============================] - 0s 28us/sample - loss: 796654.5612\n",
      "Epoch 6/250\n",
      "670/670 [==============================] - 0s 28us/sample - loss: 796246.2144\n",
      "Epoch 7/250\n",
      "670/670 [==============================] - 0s 25us/sample - loss: 795960.4670\n",
      "Epoch 8/250\n",
      "670/670 [==============================] - 0s 25us/sample - loss: 795766.9159\n",
      "Epoch 9/250\n",
      "670/670 [==============================] - 0s 25us/sample - loss: 795638.5500\n",
      "Epoch 10/250\n",
      "670/670 [==============================] - 0s 25us/sample - loss: 795534.4547\n",
      "Epoch 11/250\n",
      "670/670 [==============================] - 0s 25us/sample - loss: 795320.4183\n",
      "Epoch 12/250\n",
      "670/670 [==============================] - 0s 25us/sample - loss: 794894.1681\n",
      "Epoch 13/250\n",
      "670/670 [==============================] - 0s 25us/sample - loss: 794210.3112\n",
      "Epoch 14/250\n",
      "670/670 [==============================] - 0s 28us/sample - loss: 793209.1175\n",
      "Epoch 15/250\n",
      "670/670 [==============================] - 0s 25us/sample - loss: 791813.7103\n",
      "Epoch 16/250\n",
      "670/670 [==============================] - 0s 27us/sample - loss: 789944.2119\n",
      "Epoch 17/250\n",
      "670/670 [==============================] - 0s 25us/sample - loss: 787521.4513\n",
      "Epoch 18/250\n",
      "670/670 [==============================] - 0s 27us/sample - loss: 784456.9015\n",
      "Epoch 19/250\n",
      "670/670 [==============================] - 0s 27us/sample - loss: 780664.6233\n",
      "Epoch 20/250\n",
      "670/670 [==============================] - 0s 27us/sample - loss: 776048.9610\n",
      "Epoch 21/250\n",
      "670/670 [==============================] - 0s 26us/sample - loss: 770488.0267\n",
      "Epoch 22/250\n",
      "670/670 [==============================] - 0s 24us/sample - loss: 763881.5267\n",
      "Epoch 23/250\n",
      "670/670 [==============================] - 0s 24us/sample - loss: 756177.5685\n",
      "Epoch 24/250\n",
      "670/670 [==============================] - 0s 25us/sample - loss: 747212.0058\n",
      "Epoch 25/250\n",
      "670/670 [==============================] - 0s 24us/sample - loss: 736900.5121\n",
      "Epoch 26/250\n",
      "670/670 [==============================] - 0s 26us/sample - loss: 725184.5877\n",
      "Epoch 27/250\n",
      "670/670 [==============================] - 0s 25us/sample - loss: 711919.9080\n",
      "Epoch 28/250\n",
      "670/670 [==============================] - 0s 27us/sample - loss: 696963.0785\n",
      "Epoch 29/250\n",
      "670/670 [==============================] - 0s 25us/sample - loss: 680397.7142\n",
      "Epoch 30/250\n",
      "670/670 [==============================] - 0s 24us/sample - loss: 662000.0797\n",
      "Epoch 31/250\n",
      "670/670 [==============================] - 0s 25us/sample - loss: 641763.1993\n",
      "Epoch 32/250\n",
      "670/670 [==============================] - 0s 25us/sample - loss: 619628.0321\n",
      "Epoch 33/250\n",
      "670/670 [==============================] - 0s 27us/sample - loss: 595568.3528\n",
      "Epoch 34/250\n",
      "670/670 [==============================] - 0s 24us/sample - loss: 569644.9194\n",
      "Epoch 35/250\n",
      "670/670 [==============================] - 0s 25us/sample - loss: 541860.8326\n",
      "Epoch 36/250\n",
      "670/670 [==============================] - 0s 25us/sample - loss: 512337.0850\n",
      "Epoch 37/250\n",
      "670/670 [==============================] - 0s 24us/sample - loss: 481100.7565\n",
      "Epoch 38/250\n",
      "670/670 [==============================] - 0s 24us/sample - loss: 448204.1612\n",
      "Epoch 39/250\n",
      "670/670 [==============================] - 0s 24us/sample - loss: 413901.4185\n",
      "Epoch 40/250\n",
      "670/670 [==============================] - 0s 24us/sample - loss: 378476.9595\n",
      "Epoch 41/250\n",
      "670/670 [==============================] - 0s 24us/sample - loss: 342056.4549\n",
      "Epoch 42/250\n",
      "670/670 [==============================] - 0s 25us/sample - loss: 305043.2698\n",
      "Epoch 43/250\n",
      "670/670 [==============================] - 0s 25us/sample - loss: 268004.4849\n",
      "Epoch 44/250\n",
      "670/670 [==============================] - 0s 25us/sample - loss: 231425.6119\n",
      "Epoch 45/250\n",
      "670/670 [==============================] - 0s 25us/sample - loss: 195733.1313\n",
      "Epoch 46/250\n",
      "670/670 [==============================] - 0s 26us/sample - loss: 161437.2119\n",
      "Epoch 47/250\n",
      "670/670 [==============================] - 0s 25us/sample - loss: 129515.4677\n",
      "Epoch 48/250\n",
      "670/670 [==============================] - 0s 25us/sample - loss: 100483.9076\n",
      "Epoch 49/250\n",
      "670/670 [==============================] - 0s 25us/sample - loss: 75181.7898\n",
      "Epoch 50/250\n",
      "670/670 [==============================] - 0s 25us/sample - loss: 55182.3929\n",
      "Epoch 51/250\n",
      "670/670 [==============================] - 0s 26us/sample - loss: 40338.4175\n",
      "Epoch 52/250\n",
      "670/670 [==============================] - 0s 25us/sample - loss: 31248.6928\n",
      "Epoch 53/250\n",
      "670/670 [==============================] - 0s 24us/sample - loss: 27572.3853\n",
      "Epoch 54/250\n",
      "670/670 [==============================] - 0s 25us/sample - loss: 26941.7682\n",
      "Epoch 55/250\n",
      "670/670 [==============================] - 0s 26us/sample - loss: 26891.1041\n",
      "Epoch 56/250\n",
      "670/670 [==============================] - 0s 25us/sample - loss: 26903.8116\n",
      "Epoch 57/250\n",
      "670/670 [==============================] - 0s 24us/sample - loss: 26898.3145\n",
      "Epoch 58/250\n",
      "670/670 [==============================] - 0s 24us/sample - loss: 26872.2334\n",
      "Epoch 59/250\n",
      "670/670 [==============================] - 0s 24us/sample - loss: 26900.1731\n",
      "Epoch 60/250\n",
      "670/670 [==============================] - 0s 25us/sample - loss: 26918.9168\n",
      "Epoch 61/250\n",
      "670/670 [==============================] - 0s 25us/sample - loss: 26890.7848\n",
      "Epoch 62/250\n",
      "670/670 [==============================] - 0s 25us/sample - loss: 26833.0366\n",
      "Epoch 63/250\n",
      "670/670 [==============================] - 0s 25us/sample - loss: 26849.8228\n",
      "Epoch 64/250\n",
      "670/670 [==============================] - 0s 25us/sample - loss: 26925.1860\n",
      "Epoch 65/250\n",
      "670/670 [==============================] - 0s 25us/sample - loss: 26873.1476\n",
      "Epoch 66/250\n",
      "670/670 [==============================] - 0s 25us/sample - loss: 26896.1001\n",
      "Epoch 67/250\n",
      "670/670 [==============================] - 0s 24us/sample - loss: 26893.6366\n",
      "Epoch 68/250\n",
      "670/670 [==============================] - 0s 24us/sample - loss: 26866.3687\n",
      "Epoch 69/250\n",
      "670/670 [==============================] - 0s 24us/sample - loss: 26910.4432\n",
      "Epoch 70/250\n",
      "670/670 [==============================] - 0s 25us/sample - loss: 26833.6694\n",
      "Epoch 71/250\n",
      "670/670 [==============================] - 0s 24us/sample - loss: 26858.2767\n",
      "Epoch 72/250\n",
      "670/670 [==============================] - 0s 24us/sample - loss: 26867.5819\n",
      "Epoch 73/250\n",
      "670/670 [==============================] - 0s 24us/sample - loss: 26855.3191\n",
      "Epoch 74/250\n",
      "670/670 [==============================] - 0s 24us/sample - loss: 26909.3337\n",
      "Epoch 75/250\n",
      "670/670 [==============================] - 0s 24us/sample - loss: 26876.8354\n",
      "Epoch 76/250\n",
      "670/670 [==============================] - 0s 24us/sample - loss: 26899.4049\n",
      "Epoch 77/250\n",
      "670/670 [==============================] - 0s 24us/sample - loss: 26866.0655\n",
      "Epoch 78/250\n",
      "670/670 [==============================] - 0s 24us/sample - loss: 26922.3803\n",
      "Epoch 79/250\n",
      "670/670 [==============================] - 0s 25us/sample - loss: 26893.5873\n",
      "Epoch 80/250\n",
      "670/670 [==============================] - 0s 25us/sample - loss: 26847.6118\n",
      "Epoch 81/250\n",
      "670/670 [==============================] - 0s 23us/sample - loss: 26880.9906\n",
      "Epoch 82/250\n",
      "670/670 [==============================] - 0s 25us/sample - loss: 26894.6597\n",
      "Epoch 83/250\n",
      "670/670 [==============================] - 0s 24us/sample - loss: 26876.3736\n",
      "Epoch 84/250\n",
      "670/670 [==============================] - 0s 25us/sample - loss: 26891.7359\n",
      "Epoch 85/250\n",
      "670/670 [==============================] - 0s 26us/sample - loss: 26888.9638\n",
      "Epoch 86/250\n",
      "670/670 [==============================] - 0s 26us/sample - loss: 26891.5216\n",
      "Epoch 87/250\n",
      "670/670 [==============================] - 0s 25us/sample - loss: 26899.0594\n",
      "Epoch 88/250\n",
      "670/670 [==============================] - 0s 26us/sample - loss: 26871.7884\n",
      "Epoch 89/250\n",
      "670/670 [==============================] - 0s 24us/sample - loss: 26896.4628\n",
      "Epoch 90/250\n",
      "670/670 [==============================] - 0s 24us/sample - loss: 26932.6313\n",
      "Epoch 91/250\n"
     ]
    },
    {
     "name": "stdout",
     "output_type": "stream",
     "text": [
      "670/670 [==============================] - 0s 25us/sample - loss: 26858.9145\n",
      "Epoch 92/250\n",
      "670/670 [==============================] - 0s 24us/sample - loss: 26860.9179\n",
      "Epoch 93/250\n",
      "670/670 [==============================] - 0s 25us/sample - loss: 26900.9638\n",
      "Epoch 94/250\n",
      "670/670 [==============================] - 0s 25us/sample - loss: 26866.1790\n",
      "Epoch 95/250\n",
      "670/670 [==============================] - 0s 25us/sample - loss: 26903.4772\n",
      "Epoch 96/250\n",
      "670/670 [==============================] - 0s 24us/sample - loss: 26866.9123\n",
      "Epoch 97/250\n",
      "670/670 [==============================] - 0s 24us/sample - loss: 26887.2536\n",
      "Epoch 98/250\n",
      "670/670 [==============================] - 0s 24us/sample - loss: 26840.6744\n",
      "Epoch 99/250\n",
      "670/670 [==============================] - 0s 24us/sample - loss: 26868.5428\n",
      "Epoch 100/250\n",
      "670/670 [==============================] - 0s 25us/sample - loss: 26888.8659\n",
      "Epoch 101/250\n",
      "670/670 [==============================] - 0s 24us/sample - loss: 26861.1922\n",
      "Epoch 102/250\n",
      "670/670 [==============================] - 0s 24us/sample - loss: 26851.2187\n",
      "Epoch 103/250\n",
      "670/670 [==============================] - 0s 23us/sample - loss: 26882.6452\n",
      "Epoch 104/250\n",
      "670/670 [==============================] - 0s 25us/sample - loss: 26846.9326\n",
      "Epoch 105/250\n",
      "670/670 [==============================] - 0s 24us/sample - loss: 26898.6934\n",
      "Epoch 106/250\n",
      "670/670 [==============================] - 0s 24us/sample - loss: 26931.8619\n",
      "Epoch 107/250\n",
      "670/670 [==============================] - 0s 25us/sample - loss: 26835.9882\n",
      "Epoch 108/250\n",
      "670/670 [==============================] - 0s 24us/sample - loss: 26866.9551\n",
      "Epoch 109/250\n",
      "670/670 [==============================] - 0s 26us/sample - loss: 26932.4469\n",
      "Epoch 110/250\n",
      "670/670 [==============================] - 0s 26us/sample - loss: 26862.0329\n",
      "Epoch 111/250\n",
      "670/670 [==============================] - 0s 24us/sample - loss: 26874.9380\n",
      "Epoch 112/250\n",
      "670/670 [==============================] - 0s 24us/sample - loss: 26887.8231\n",
      "Epoch 113/250\n",
      "670/670 [==============================] - 0s 23us/sample - loss: 26917.6220\n",
      "Epoch 114/250\n",
      "670/670 [==============================] - 0s 25us/sample - loss: 26845.0339\n",
      "Epoch 115/250\n",
      "670/670 [==============================] - 0s 24us/sample - loss: 26865.4813\n",
      "Epoch 116/250\n",
      "670/670 [==============================] - 0s 25us/sample - loss: 26883.0337\n",
      "Epoch 117/250\n",
      "670/670 [==============================] - 0s 25us/sample - loss: 26913.4822\n",
      "Epoch 118/250\n",
      "670/670 [==============================] - 0s 25us/sample - loss: 26895.0357\n",
      "Epoch 119/250\n",
      "670/670 [==============================] - 0s 24us/sample - loss: 26869.0359\n",
      "Epoch 120/250\n",
      "670/670 [==============================] - 0s 24us/sample - loss: 26880.5733\n",
      "Epoch 121/250\n",
      "670/670 [==============================] - 0s 24us/sample - loss: 26920.0094\n",
      "Epoch 122/250\n",
      "670/670 [==============================] - 0s 24us/sample - loss: 26871.9339\n",
      "Epoch 123/250\n",
      "670/670 [==============================] - 0s 24us/sample - loss: 26893.3975\n",
      "Epoch 124/250\n",
      "670/670 [==============================] - 0s 24us/sample - loss: 26883.8484\n",
      "Epoch 125/250\n",
      "670/670 [==============================] - 0s 24us/sample - loss: 26881.8694\n",
      "Epoch 126/250\n",
      "670/670 [==============================] - 0s 22us/sample - loss: 26844.4728\n",
      "Epoch 127/250\n",
      "670/670 [==============================] - 0s 26us/sample - loss: 26873.1503\n",
      "Epoch 128/250\n",
      "670/670 [==============================] - 0s 22us/sample - loss: 26896.8111\n",
      "Epoch 129/250\n",
      "670/670 [==============================] - 0s 25us/sample - loss: 26901.9268\n",
      "Epoch 130/250\n",
      "670/670 [==============================] - 0s 24us/sample - loss: 26901.2552\n",
      "Epoch 131/250\n",
      "670/670 [==============================] - 0s 24us/sample - loss: 26907.5148\n",
      "Epoch 132/250\n",
      "670/670 [==============================] - 0s 24us/sample - loss: 26888.6543\n",
      "Epoch 133/250\n",
      "670/670 [==============================] - 0s 24us/sample - loss: 26895.6364\n",
      "Epoch 134/250\n",
      "670/670 [==============================] - 0s 25us/sample - loss: 26843.1801\n",
      "Epoch 135/250\n",
      "670/670 [==============================] - 0s 24us/sample - loss: 26907.8657\n",
      "Epoch 136/250\n",
      "670/670 [==============================] - 0s 24us/sample - loss: 26901.6775\n",
      "Epoch 137/250\n",
      "670/670 [==============================] - 0s 24us/sample - loss: 26915.9217\n",
      "Epoch 138/250\n",
      "670/670 [==============================] - 0s 24us/sample - loss: 26871.7009\n",
      "Epoch 139/250\n",
      "670/670 [==============================] - 0s 25us/sample - loss: 26890.9143\n",
      "Epoch 140/250\n",
      "670/670 [==============================] - 0s 24us/sample - loss: 26870.0580\n",
      "Epoch 141/250\n",
      "670/670 [==============================] - 0s 25us/sample - loss: 26885.0533\n",
      "Epoch 142/250\n",
      "670/670 [==============================] - 0s 26us/sample - loss: 26874.2989\n",
      "Epoch 143/250\n",
      "670/670 [==============================] - 0s 25us/sample - loss: 26903.6384\n",
      "Epoch 144/250\n",
      "670/670 [==============================] - 0s 25us/sample - loss: 26855.7645\n",
      "Epoch 145/250\n",
      "670/670 [==============================] - 0s 24us/sample - loss: 26885.5917\n",
      "Epoch 146/250\n",
      "670/670 [==============================] - 0s 25us/sample - loss: 26846.0583\n",
      "Epoch 147/250\n",
      "670/670 [==============================] - 0s 24us/sample - loss: 26883.2262\n",
      "Epoch 148/250\n",
      "670/670 [==============================] - 0s 24us/sample - loss: 26887.6741\n",
      "Epoch 149/250\n",
      "670/670 [==============================] - 0s 24us/sample - loss: 26860.0770\n",
      "Epoch 150/250\n",
      "670/670 [==============================] - 0s 25us/sample - loss: 26894.7336\n",
      "Epoch 151/250\n",
      "670/670 [==============================] - 0s 25us/sample - loss: 26880.0036\n",
      "Epoch 152/250\n",
      "670/670 [==============================] - 0s 24us/sample - loss: 26876.8871\n",
      "Epoch 153/250\n",
      "670/670 [==============================] - 0s 24us/sample - loss: 26915.5683\n",
      "Epoch 154/250\n",
      "670/670 [==============================] - 0s 24us/sample - loss: 26927.8388\n",
      "Epoch 155/250\n",
      "670/670 [==============================] - 0s 22us/sample - loss: 26860.1991\n",
      "Epoch 156/250\n",
      "670/670 [==============================] - 0s 24us/sample - loss: 26864.2901\n",
      "Epoch 157/250\n",
      "670/670 [==============================] - 0s 25us/sample - loss: 26928.4630\n",
      "Epoch 158/250\n",
      "670/670 [==============================] - 0s 24us/sample - loss: 26878.9049\n",
      "Epoch 159/250\n",
      "670/670 [==============================] - 0s 24us/sample - loss: 26849.6670\n",
      "Epoch 160/250\n",
      "670/670 [==============================] - 0s 24us/sample - loss: 26901.2805\n",
      "Epoch 161/250\n",
      "670/670 [==============================] - 0s 23us/sample - loss: 26884.0601\n",
      "Epoch 162/250\n",
      "670/670 [==============================] - 0s 22us/sample - loss: 26885.6519\n",
      "Epoch 163/250\n",
      "670/670 [==============================] - 0s 23us/sample - loss: 26880.8561\n",
      "Epoch 164/250\n",
      "670/670 [==============================] - 0s 23us/sample - loss: 26836.8361\n",
      "Epoch 165/250\n",
      "670/670 [==============================] - 0s 25us/sample - loss: 26890.8264\n",
      "Epoch 166/250\n",
      "670/670 [==============================] - 0s 25us/sample - loss: 26856.5838\n",
      "Epoch 167/250\n",
      "670/670 [==============================] - 0s 25us/sample - loss: 26901.6487\n",
      "Epoch 168/250\n",
      "670/670 [==============================] - 0s 24us/sample - loss: 26864.6978\n",
      "Epoch 169/250\n",
      "670/670 [==============================] - 0s 22us/sample - loss: 26868.4327\n",
      "Epoch 170/250\n",
      "670/670 [==============================] - 0s 24us/sample - loss: 26914.9853\n",
      "Epoch 171/250\n",
      "670/670 [==============================] - 0s 24us/sample - loss: 26865.8545\n",
      "Epoch 172/250\n",
      "670/670 [==============================] - 0s 24us/sample - loss: 26880.5346\n",
      "Epoch 173/250\n",
      "670/670 [==============================] - 0s 24us/sample - loss: 26864.2859\n",
      "Epoch 174/250\n",
      "670/670 [==============================] - 0s 23us/sample - loss: 26898.7421\n",
      "Epoch 175/250\n",
      "670/670 [==============================] - 0s 24us/sample - loss: 26846.9417\n",
      "Epoch 176/250\n",
      "670/670 [==============================] - 0s 25us/sample - loss: 26838.0341\n",
      "Epoch 177/250\n",
      "670/670 [==============================] - 0s 24us/sample - loss: 26895.1529\n",
      "Epoch 178/250\n",
      "670/670 [==============================] - 0s 24us/sample - loss: 26892.3589\n",
      "Epoch 179/250\n",
      "670/670 [==============================] - 0s 22us/sample - loss: 26863.5174\n",
      "Epoch 180/250\n",
      "670/670 [==============================] - 0s 24us/sample - loss: 26880.1747\n",
      "Epoch 181/250\n"
     ]
    },
    {
     "name": "stdout",
     "output_type": "stream",
     "text": [
      "670/670 [==============================] - 0s 22us/sample - loss: 26910.6174\n",
      "Epoch 182/250\n",
      "670/670 [==============================] - 0s 22us/sample - loss: 26867.7378\n",
      "Epoch 183/250\n",
      "670/670 [==============================] - 0s 24us/sample - loss: 26885.5807\n",
      "Epoch 184/250\n",
      "670/670 [==============================] - 0s 24us/sample - loss: 26886.0226\n",
      "Epoch 185/250\n",
      "670/670 [==============================] - 0s 24us/sample - loss: 26887.1486\n",
      "Epoch 186/250\n",
      "670/670 [==============================] - 0s 24us/sample - loss: 26890.6684\n",
      "Epoch 187/250\n",
      "670/670 [==============================] - 0s 25us/sample - loss: 26921.1389\n",
      "Epoch 188/250\n",
      "670/670 [==============================] - 0s 24us/sample - loss: 26895.4551\n",
      "Epoch 189/250\n",
      "670/670 [==============================] - 0s 24us/sample - loss: 26842.1969\n",
      "Epoch 190/250\n",
      "670/670 [==============================] - 0s 25us/sample - loss: 26836.6570\n",
      "Epoch 191/250\n",
      "670/670 [==============================] - 0s 23us/sample - loss: 26895.7512\n",
      "Epoch 192/250\n",
      "670/670 [==============================] - 0s 24us/sample - loss: 26874.9895\n",
      "Epoch 193/250\n",
      "670/670 [==============================] - 0s 24us/sample - loss: 26886.1165\n",
      "Epoch 194/250\n",
      "670/670 [==============================] - 0s 24us/sample - loss: 26883.1376\n",
      "Epoch 195/250\n",
      "670/670 [==============================] - 0s 24us/sample - loss: 26894.8042\n",
      "Epoch 196/250\n",
      "670/670 [==============================] - 0s 24us/sample - loss: 26886.1315\n",
      "Epoch 197/250\n",
      "670/670 [==============================] - 0s 23us/sample - loss: 26875.2600\n",
      "Epoch 198/250\n",
      "670/670 [==============================] - 0s 23us/sample - loss: 26915.1979\n",
      "Epoch 199/250\n",
      "670/670 [==============================] - 0s 24us/sample - loss: 26885.3785\n",
      "Epoch 200/250\n",
      "670/670 [==============================] - 0s 25us/sample - loss: 26903.2223\n",
      "Epoch 201/250\n",
      "670/670 [==============================] - 0s 26us/sample - loss: 26903.2421\n",
      "Epoch 202/250\n",
      "670/670 [==============================] - 0s 24us/sample - loss: 26916.2569\n",
      "Epoch 203/250\n",
      "670/670 [==============================] - 0s 25us/sample - loss: 26883.4378\n",
      "Epoch 204/250\n",
      "670/670 [==============================] - 0s 25us/sample - loss: 26905.8151\n",
      "Epoch 205/250\n",
      "670/670 [==============================] - 0s 25us/sample - loss: 26882.0573\n",
      "Epoch 206/250\n",
      "670/670 [==============================] - 0s 24us/sample - loss: 26878.8244\n",
      "Epoch 207/250\n",
      "670/670 [==============================] - 0s 24us/sample - loss: 26881.5210\n",
      "Epoch 208/250\n",
      "670/670 [==============================] - 0s 25us/sample - loss: 26872.2339\n",
      "Epoch 209/250\n",
      "670/670 [==============================] - 0s 24us/sample - loss: 26876.4720\n",
      "Epoch 210/250\n",
      "670/670 [==============================] - 0s 24us/sample - loss: 26925.5851\n",
      "Epoch 211/250\n",
      "670/670 [==============================] - 0s 24us/sample - loss: 26864.6464\n",
      "Epoch 212/250\n",
      "670/670 [==============================] - 0s 24us/sample - loss: 26905.2325\n",
      "Epoch 213/250\n",
      "670/670 [==============================] - 0s 24us/sample - loss: 26873.8226\n",
      "Epoch 214/250\n",
      "670/670 [==============================] - 0s 25us/sample - loss: 26867.2233\n",
      "Epoch 215/250\n",
      "670/670 [==============================] - 0s 24us/sample - loss: 26904.8160\n",
      "Epoch 216/250\n",
      "670/670 [==============================] - 0s 24us/sample - loss: 26888.0232\n",
      "Epoch 217/250\n",
      "670/670 [==============================] - 0s 24us/sample - loss: 26836.2450\n",
      "Epoch 218/250\n",
      "670/670 [==============================] - 0s 22us/sample - loss: 26959.8824\n",
      "Epoch 219/250\n",
      "670/670 [==============================] - 0s 25us/sample - loss: 26852.6561\n",
      "Epoch 220/250\n",
      "670/670 [==============================] - 0s 22us/sample - loss: 26890.3358\n",
      "Epoch 221/250\n",
      "670/670 [==============================] - 0s 24us/sample - loss: 26851.6805\n",
      "Epoch 222/250\n",
      "670/670 [==============================] - 0s 24us/sample - loss: 26910.7241\n",
      "Epoch 223/250\n",
      "670/670 [==============================] - 0s 24us/sample - loss: 26880.2547\n",
      "Epoch 224/250\n",
      "670/670 [==============================] - 0s 23us/sample - loss: 26871.3778\n",
      "Epoch 225/250\n",
      "670/670 [==============================] - 0s 24us/sample - loss: 26896.8861\n",
      "Epoch 226/250\n",
      "670/670 [==============================] - 0s 23us/sample - loss: 26908.1040\n",
      "Epoch 227/250\n",
      "670/670 [==============================] - 0s 24us/sample - loss: 26886.0997\n",
      "Epoch 228/250\n",
      "670/670 [==============================] - 0s 24us/sample - loss: 26897.0356\n",
      "Epoch 229/250\n",
      "670/670 [==============================] - 0s 24us/sample - loss: 26888.7334\n",
      "Epoch 230/250\n",
      "670/670 [==============================] - 0s 23us/sample - loss: 26889.4599\n",
      "Epoch 231/250\n",
      "670/670 [==============================] - 0s 23us/sample - loss: 26902.8475\n",
      "Epoch 232/250\n",
      "670/670 [==============================] - 0s 24us/sample - loss: 26898.6830\n",
      "Epoch 233/250\n",
      "670/670 [==============================] - 0s 24us/sample - loss: 26906.1009\n",
      "Epoch 234/250\n",
      "670/670 [==============================] - 0s 25us/sample - loss: 26907.0277\n",
      "Epoch 235/250\n",
      "670/670 [==============================] - 0s 24us/sample - loss: 26894.7490\n",
      "Epoch 236/250\n",
      "670/670 [==============================] - 0s 23us/sample - loss: 26872.2168\n",
      "Epoch 237/250\n",
      "670/670 [==============================] - 0s 24us/sample - loss: 26835.3733\n",
      "Epoch 238/250\n",
      "670/670 [==============================] - 0s 24us/sample - loss: 26896.8295\n",
      "Epoch 239/250\n",
      "670/670 [==============================] - 0s 24us/sample - loss: 26911.2815\n",
      "Epoch 240/250\n",
      "670/670 [==============================] - 0s 24us/sample - loss: 26920.0973\n",
      "Epoch 241/250\n",
      "670/670 [==============================] - 0s 24us/sample - loss: 26865.2447\n",
      "Epoch 242/250\n",
      "670/670 [==============================] - 0s 24us/sample - loss: 26915.7774\n",
      "Epoch 243/250\n",
      "670/670 [==============================] - 0s 24us/sample - loss: 26898.8070\n",
      "Epoch 244/250\n",
      "670/670 [==============================] - 0s 24us/sample - loss: 26894.3571\n",
      "Epoch 245/250\n",
      "670/670 [==============================] - 0s 23us/sample - loss: 26887.6523\n",
      "Epoch 246/250\n",
      "670/670 [==============================] - 0s 24us/sample - loss: 26895.4861\n",
      "Epoch 247/250\n",
      "670/670 [==============================] - 0s 24us/sample - loss: 26897.8250\n",
      "Epoch 248/250\n",
      "670/670 [==============================] - 0s 24us/sample - loss: 26895.9660\n",
      "Epoch 249/250\n",
      "670/670 [==============================] - 0s 24us/sample - loss: 26882.7506\n",
      "Epoch 250/250\n",
      "670/670 [==============================] - 0s 25us/sample - loss: 26852.7083\n"
     ]
    },
    {
     "data": {
      "text/plain": [
       "<tensorflow.python.keras.callbacks.History at 0x16c21ec0608>"
      ]
     },
     "execution_count": 32,
     "metadata": {},
     "output_type": "execute_result"
    }
   ],
   "source": [
    "model.fit(x_train,y_train,epochs = 250) #modeli eğitiyoruz"
   ]
  },
  {
   "cell_type": "code",
   "execution_count": 33,
   "metadata": {},
   "outputs": [],
   "source": [
    "loss = model.history.history[\"loss\"]"
   ]
  },
  {
   "cell_type": "code",
   "execution_count": 34,
   "metadata": {},
   "outputs": [
    {
     "data": {
      "text/plain": [
       "<matplotlib.axes._subplots.AxesSubplot at 0x16c22295308>"
      ]
     },
     "execution_count": 34,
     "metadata": {},
     "output_type": "execute_result"
    },
    {
     "data": {
      "image/png": "[encoded data removed]",
      "text/plain": [
       "<Figure size 432x288 with 1 Axes>"
      ]
     },
     "metadata": {
      "needs_background": "light"
     },
     "output_type": "display_data"
    }
   ],
   "source": [
    "sbn.lineplot(x=range(len(loss)),y=loss)"
   ]
  },
  {
   "cell_type": "code",
   "execution_count": 42,
   "metadata": {},
   "outputs": [
    {
     "data": {
      "text/plain": [
       "26844.327273787312"
      ]
     },
     "execution_count": 42,
     "metadata": {},
     "output_type": "execute_result"
    }
   ],
   "source": [
    "egitim = model.evaluate(x_train,y_train, verbose =0 )\n",
    "egitim"
   ]
  },
  {
   "cell_type": "code",
   "execution_count": 44,
   "metadata": {},
   "outputs": [
    {
     "data": {
      "text/plain": [
       "27398.885239109848"
      ]
     },
     "execution_count": 44,
     "metadata": {},
     "output_type": "execute_result"
    }
   ],
   "source": [
    "test = model.evaluate(x_test,y_test,verbose = 0)\n",
    "test"
   ]
  },
  {
   "cell_type": "markdown",
   "metadata": {},
   "source": [
    "DİKKAT EDERSENİZ SONUÇLARA MODELİN SONUCU 781259, TESTİN SONUCU İSE 758893 YANİ BİRİBİRE YAKIN SAYILICAK DEGERLER"
   ]
  },
  {
   "cell_type": "code",
   "execution_count": 45,
   "metadata": {},
   "outputs": [],
   "source": [
    "trainloss = pd.Series(egitim)\n",
    "testloss = pd.Series(test)"
   ]
  },
  {
   "cell_type": "code",
   "execution_count": 53,
   "metadata": {},
   "outputs": [],
   "source": [
    "tahmin = model.predict(x_test)\n",
    "gercek = y_test"
   ]
  },
  {
   "cell_type": "code",
   "execution_count": 57,
   "metadata": {},
   "outputs": [],
   "source": [
    "gercekdf = pd.DataFrame(gercek,columns=[\"GERÇEK\"])\n",
    "tahmindf = pd.DataFrame(tahmin,columns =[\"TAHMİNİ\"])\n",
    "\n"
   ]
  },
  {
   "cell_type": "code",
   "execution_count": 58,
   "metadata": {},
   "outputs": [],
   "source": [
    "birlesmis = pd.concat([gercekdf,tahmindf],axis =1)"
   ]
  },
  {
   "cell_type": "code",
   "execution_count": 59,
   "metadata": {},
   "outputs": [
    {
     "data": {
      "text/html": [
       "<div>\n",
       "<style scoped>\n",
       "    .dataframe tbody tr th:only-of-type {\n",
       "        vertical-align: middle;\n",
       "    }\n",
       "\n",
       "    .dataframe tbody tr th {\n",
       "        vertical-align: top;\n",
       "    }\n",
       "\n",
       "    .dataframe thead th {\n",
       "        text-align: right;\n",
       "    }\n",
       "</style>\n",
       "<table border=\"1\" class=\"dataframe\">\n",
       "  <thead>\n",
       "    <tr style=\"text-align: right;\">\n",
       "      <th></th>\n",
       "      <th>GERÇEK</th>\n",
       "      <th>TAHMİNİ</th>\n",
       "    </tr>\n",
       "  </thead>\n",
       "  <tbody>\n",
       "    <tr>\n",
       "      <th>0</th>\n",
       "      <td>1081.652164</td>\n",
       "      <td>882.683044</td>\n",
       "    </tr>\n",
       "    <tr>\n",
       "      <th>1</th>\n",
       "      <td>622.675990</td>\n",
       "      <td>882.794861</td>\n",
       "    </tr>\n",
       "    <tr>\n",
       "      <th>2</th>\n",
       "      <td>889.356810</td>\n",
       "      <td>882.724121</td>\n",
       "    </tr>\n",
       "    <tr>\n",
       "      <th>3</th>\n",
       "      <td>902.826733</td>\n",
       "      <td>882.790527</td>\n",
       "    </tr>\n",
       "    <tr>\n",
       "      <th>4</th>\n",
       "      <td>897.662404</td>\n",
       "      <td>882.800903</td>\n",
       "    </tr>\n",
       "    <tr>\n",
       "      <th>...</th>\n",
       "      <td>...</td>\n",
       "      <td>...</td>\n",
       "    </tr>\n",
       "    <tr>\n",
       "      <th>325</th>\n",
       "      <td>1028.438035</td>\n",
       "      <td>882.686951</td>\n",
       "    </tr>\n",
       "    <tr>\n",
       "      <th>326</th>\n",
       "      <td>789.934950</td>\n",
       "      <td>882.803284</td>\n",
       "    </tr>\n",
       "    <tr>\n",
       "      <th>327</th>\n",
       "      <td>758.490486</td>\n",
       "      <td>882.744934</td>\n",
       "    </tr>\n",
       "    <tr>\n",
       "      <th>328</th>\n",
       "      <td>1172.871659</td>\n",
       "      <td>882.640259</td>\n",
       "    </tr>\n",
       "    <tr>\n",
       "      <th>329</th>\n",
       "      <td>820.947936</td>\n",
       "      <td>882.821899</td>\n",
       "    </tr>\n",
       "  </tbody>\n",
       "</table>\n",
       "<p>330 rows × 2 columns</p>\n",
       "</div>"
      ],
      "text/plain": [
       "          GERÇEK     TAHMİNİ\n",
       "0    1081.652164  882.683044\n",
       "1     622.675990  882.794861\n",
       "2     889.356810  882.724121\n",
       "3     902.826733  882.790527\n",
       "4     897.662404  882.800903\n",
       "..           ...         ...\n",
       "325  1028.438035  882.686951\n",
       "326   789.934950  882.803284\n",
       "327   758.490486  882.744934\n",
       "328  1172.871659  882.640259\n",
       "329   820.947936  882.821899\n",
       "\n",
       "[330 rows x 2 columns]"
      ]
     },
     "execution_count": 59,
     "metadata": {},
     "output_type": "execute_result"
    }
   ],
   "source": [
    "birlesmis"
   ]
  },
  {
   "cell_type": "code",
   "execution_count": 60,
   "metadata": {},
   "outputs": [
    {
     "data": {
      "text/plain": [
       "<matplotlib.axes._subplots.AxesSubplot at 0x16c2348a048>"
      ]
     },
     "execution_count": 60,
     "metadata": {},
     "output_type": "execute_result"
    },
    {
     "data": {
      "image/png": "[encoded data removed]",
      "text/plain": [
       "<Figure size 432x288 with 1 Axes>"
      ]
     },
     "metadata": {
      "needs_background": "light"
     },
     "output_type": "display_data"
    }
   ],
   "source": [
    "sbn.boxplot(birlesmis)"
   ]
  },
  {
   "cell_type": "code",
   "execution_count": 61,
   "metadata": {},
   "outputs": [
    {
     "data": {
      "text/plain": [
       "<matplotlib.axes._subplots.AxesSubplot at 0x16c234f2c08>"
      ]
     },
     "execution_count": 61,
     "metadata": {},
     "output_type": "execute_result"
    },
    {
     "data": {
      "image/png": "[encoded data removed]",
      "text/plain": [
       "<Figure size 432x288 with 1 Axes>"
      ]
     },
     "metadata": {
      "needs_background": "light"
     },
     "output_type": "display_data"
    }
   ],
   "source": [
    "sbn.scatterplot(data = birlesmis,x=\"GERÇEK\",y = \"TAHMİNİ\")"
   ]
  },
  {
   "cell_type": "code",
   "execution_count": 62,
   "metadata": {},
   "outputs": [],
   "source": [
    "from sklearn.metrics import mean_absolute_error,mean_squared_error\n"
   ]
  },
  {
   "cell_type": "code",
   "execution_count": 63,
   "metadata": {},
   "outputs": [
    {
     "data": {
      "text/plain": [
       "27398.885193594007"
      ]
     },
     "execution_count": 63,
     "metadata": {},
     "output_type": "execute_result"
    }
   ],
   "source": [
    "mean_squared_error(birlesmis[\"GERÇEK\"],birlesmis[\"TAHMİNİ\"])"
   ]
  },
  {
   "cell_type": "code",
   "execution_count": 64,
   "metadata": {},
   "outputs": [
    {
     "data": {
      "text/plain": [
       "131.5586345419318"
      ]
     },
     "execution_count": 64,
     "metadata": {},
     "output_type": "execute_result"
    }
   ],
   "source": [
    "mean_absolute_error(birlesmis[\"GERÇEK\"],birlesmis[\"TAHMİNİ\"])"
   ]
  },
  {
   "cell_type": "code",
   "execution_count": 65,
   "metadata": {},
   "outputs": [
    {
     "data": {
      "text/html": [
       "<div>\n",
       "<style scoped>\n",
       "    .dataframe tbody tr th:only-of-type {\n",
       "        vertical-align: middle;\n",
       "    }\n",
       "\n",
       "    .dataframe tbody tr th {\n",
       "        vertical-align: top;\n",
       "    }\n",
       "\n",
       "    .dataframe thead th {\n",
       "        text-align: right;\n",
       "    }\n",
       "</style>\n",
       "<table border=\"1\" class=\"dataframe\">\n",
       "  <thead>\n",
       "    <tr style=\"text-align: right;\">\n",
       "      <th></th>\n",
       "      <th>count</th>\n",
       "      <th>mean</th>\n",
       "      <th>std</th>\n",
       "      <th>min</th>\n",
       "      <th>25%</th>\n",
       "      <th>50%</th>\n",
       "      <th>75%</th>\n",
       "      <th>max</th>\n",
       "    </tr>\n",
       "  </thead>\n",
       "  <tbody>\n",
       "    <tr>\n",
       "      <th>Fiyat</th>\n",
       "      <td>1000.0</td>\n",
       "      <td>872.677801</td>\n",
       "      <td>164.124504</td>\n",
       "      <td>390.856887</td>\n",
       "      <td>757.795031</td>\n",
       "      <td>879.168705</td>\n",
       "      <td>988.612778</td>\n",
       "      <td>1355.213745</td>\n",
       "    </tr>\n",
       "    <tr>\n",
       "      <th>BisikletOzellik1</th>\n",
       "      <td>1000.0</td>\n",
       "      <td>1750.024800</td>\n",
       "      <td>1.704531</td>\n",
       "      <td>1744.852108</td>\n",
       "      <td>1748.831119</td>\n",
       "      <td>1750.017350</td>\n",
       "      <td>1751.115766</td>\n",
       "      <td>1755.613884</td>\n",
       "    </tr>\n",
       "    <tr>\n",
       "      <th>BisikletOzellik2</th>\n",
       "      <td>1000.0</td>\n",
       "      <td>1749.964733</td>\n",
       "      <td>1.659578</td>\n",
       "      <td>1744.742389</td>\n",
       "      <td>1748.803186</td>\n",
       "      <td>1750.003926</td>\n",
       "      <td>1751.129414</td>\n",
       "      <td>1754.666038</td>\n",
       "    </tr>\n",
       "  </tbody>\n",
       "</table>\n",
       "</div>"
      ],
      "text/plain": [
       "                   count         mean         std          min          25%  \\\n",
       "Fiyat             1000.0   872.677801  164.124504   390.856887   757.795031   \n",
       "BisikletOzellik1  1000.0  1750.024800    1.704531  1744.852108  1748.831119   \n",
       "BisikletOzellik2  1000.0  1749.964733    1.659578  1744.742389  1748.803186   \n",
       "\n",
       "                          50%          75%          max  \n",
       "Fiyat              879.168705   988.612778  1355.213745  \n",
       "BisikletOzellik1  1750.017350  1751.115766  1755.613884  \n",
       "BisikletOzellik2  1750.003926  1751.129414  1754.666038  "
      ]
     },
     "execution_count": 65,
     "metadata": {},
     "output_type": "execute_result"
    }
   ],
   "source": [
    "bisiklet.describe().T"
   ]
  },
  {
   "cell_type": "code",
   "execution_count": null,
   "metadata": {},
   "outputs": [],
   "source": []
  },
  {
   "cell_type": "code",
   "execution_count": null,
   "metadata": {},
   "outputs": [],
   "source": []
  },
  {
   "cell_type": "code",
   "execution_count": null,
   "metadata": {},
   "outputs": [],
   "source": []
  },
  {
   "cell_type": "code",
   "execution_count": null,
   "metadata": {},
   "outputs": [],
   "source": []
  }
 ],
 "metadata": {
  "kernelspec": {
   "display_name": "Python 3",
   "language": "python",
   "name": "python3"
  },
  "language_info": {
   "codemirror_mode": {
    "name": "ipython",
    "version": 3
   },
   "file_extension": ".py",
   "mimetype": "text/x-python",
   "name": "python",
   "nbconvert_exporter": "python",
   "pygments_lexer": "ipython3",
   "version": "3.7.6"
  }
 },
 "nbformat": 4,
 "nbformat_minor": 4
}
