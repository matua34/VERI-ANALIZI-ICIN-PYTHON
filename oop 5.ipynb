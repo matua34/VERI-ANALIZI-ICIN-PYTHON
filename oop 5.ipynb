{
 "cells": [
  {
   "cell_type": "code",
   "execution_count": 73,
   "metadata": {},
   "outputs": [],
   "source": [
    "class Insan():\n",
    "    def __init__(self):\n",
    "        print(\"İNSAN SINIFI NESNE ÜRETTİ.\")\n",
    "        \n",
    "    def dogum(self):\n",
    "        print(\"İNSAN DOĞDU..\")\n",
    "        "
   ]
  },
  {
   "cell_type": "code",
   "execution_count": 93,
   "metadata": {},
   "outputs": [],
   "source": [
    "class Kadın(Insan):\n",
    "    def __init__(self,ad,yas,cinsiyet,meslek):\n",
    "        Insan.__init__(self)\n",
    "        self.ad = ad\n",
    "        self.yas = yas\n",
    "        self.cinsiyet = cinsiyet\n",
    "        self.meslek = meslek\n",
    "        print(\"Kadın SINIFI nesne üretti.\")\n",
    "    def dogum(self):\n",
    "        print(\"kadın oldu..\")\n",
    "    \n",
    "    def zıpla(self):\n",
    "        print(\"kadınlar 1.5m yukarı zıplayabilir.\")\n"
   ]
  },
  {
   "cell_type": "code",
   "execution_count": 99,
   "metadata": {},
   "outputs": [],
   "source": [
    "class Erkek(Insan):\n",
    "    def __init__(self,ad,yas,cinsiyet,meslek):\n",
    "        Insan.__init__(self)\n",
    "        self.ad = ad\n",
    "        self.yas = yas\n",
    "        self.cinsiyet = cinsiyet\n",
    "        self.meslek = meslek\n",
    "        print(\"ERKEK SINIFI NESNE ÜRETTİ.\")\n",
    "    \n",
    "    def dogum(self):\n",
    "        print(\"Erkek oldu.\")\n",
    "        \n",
    "    def zıpla(self):\n",
    "        print(\"Erkekler 2m yukarı zıplayabilir.\")"
   ]
  },
  {
   "cell_type": "code",
   "execution_count": 100,
   "metadata": {},
   "outputs": [
    {
     "name": "stdout",
     "output_type": "stream",
     "text": [
      "İNSAN SINIFI NESNE ÜRETTİ.\n",
      "ERKEK SINIFI NESNE ÜRETTİ.\n"
     ]
    }
   ],
   "source": [
    "metin = Erkek(\"METİN\",32,\"erkekbirey\",\"gazeteci\")"
   ]
  },
  {
   "cell_type": "code",
   "execution_count": 102,
   "metadata": {},
   "outputs": [
    {
     "name": "stdout",
     "output_type": "stream",
     "text": [
      "İNSAN SINIFI NESNE ÜRETTİ.\n",
      "Kadın SINIFI nesne üretti.\n"
     ]
    }
   ],
   "source": [
    "ayse = Kadın(\"AYŞE\",30,\"kadınbirey\",\"öğretmen\")"
   ]
  },
  {
   "cell_type": "code",
   "execution_count": 103,
   "metadata": {},
   "outputs": [
    {
     "name": "stdout",
     "output_type": "stream",
     "text": [
      "kadın oldu..\n"
     ]
    }
   ],
   "source": [
    "ayse.dogum()"
   ]
  },
  {
   "cell_type": "code",
   "execution_count": 104,
   "metadata": {},
   "outputs": [
    {
     "name": "stdout",
     "output_type": "stream",
     "text": [
      "İNSAN SINIFI NESNE ÜRETTİ.\n"
     ]
    }
   ],
   "source": [
    "cocuk = Insan()"
   ]
  },
  {
   "cell_type": "code",
   "execution_count": 105,
   "metadata": {},
   "outputs": [
    {
     "name": "stdout",
     "output_type": "stream",
     "text": [
      "İNSAN DOĞDU..\n"
     ]
    }
   ],
   "source": [
    "cocuk.dogum()"
   ]
  },
  {
   "cell_type": "code",
   "execution_count": 106,
   "metadata": {},
   "outputs": [
    {
     "name": "stdout",
     "output_type": "stream",
     "text": [
      "Erkek oldu.\n"
     ]
    }
   ],
   "source": [
    "metin.dogum()"
   ]
  },
  {
   "cell_type": "code",
   "execution_count": 107,
   "metadata": {},
   "outputs": [
    {
     "name": "stdout",
     "output_type": "stream",
     "text": [
      "Erkekler 2m yukarı zıplayabilir.\n"
     ]
    }
   ],
   "source": [
    "metin.zıpla()"
   ]
  },
  {
   "cell_type": "code",
   "execution_count": 108,
   "metadata": {},
   "outputs": [
    {
     "name": "stdout",
     "output_type": "stream",
     "text": [
      "kadınlar 1.5m yukarı zıplayabilir.\n"
     ]
    }
   ],
   "source": [
    "ayse.zıpla()"
   ]
  },
  {
   "cell_type": "code",
   "execution_count": 109,
   "metadata": {},
   "outputs": [
    {
     "data": {
      "text/plain": [
       "'kadınbirey'"
      ]
     },
     "execution_count": 109,
     "metadata": {},
     "output_type": "execute_result"
    }
   ],
   "source": [
    "ayse.cinsiyet"
   ]
  },
  {
   "cell_type": "code",
   "execution_count": 110,
   "metadata": {},
   "outputs": [
    {
     "data": {
      "text/plain": [
       "'erkekbirey'"
      ]
     },
     "execution_count": 110,
     "metadata": {},
     "output_type": "execute_result"
    }
   ],
   "source": [
    "metin.cinsiyet"
   ]
  },
  {
   "cell_type": "code",
   "execution_count": 111,
   "metadata": {},
   "outputs": [],
   "source": [
    "bireyler = [metin,ayse,cocuk]"
   ]
  },
  {
   "cell_type": "code",
   "execution_count": 115,
   "metadata": {},
   "outputs": [
    {
     "name": "stdout",
     "output_type": "stream",
     "text": [
      "Erkek oldu.\n",
      "None\n",
      "kadın oldu..\n",
      "None\n",
      "İNSAN DOĞDU..\n",
      "None\n"
     ]
    }
   ],
   "source": [
    "for person in bireyler:\n",
    "    print(person.dogum()) #burda dogum fonksiyonu sınıflara özel çalışır.karışmaz. buna poliymorhism deniz."
   ]
  },
  {
   "cell_type": "code",
   "execution_count": null,
   "metadata": {},
   "outputs": [],
   "source": []
  }
 ],
 "metadata": {
  "kernelspec": {
   "display_name": "Python 3",
   "language": "python",
   "name": "python3"
  },
  "language_info": {
   "codemirror_mode": {
    "name": "ipython",
    "version": 3
   },
   "file_extension": ".py",
   "mimetype": "text/x-python",
   "name": "python",
   "nbconvert_exporter": "python",
   "pygments_lexer": "ipython3",
   "version": "3.7.6"
  }
 },
 "nbformat": 4,
 "nbformat_minor": 4
}
