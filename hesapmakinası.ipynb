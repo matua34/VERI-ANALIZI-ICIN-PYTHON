{
 "cells": [
  {
   "cell_type": "code",
   "execution_count": null,
   "metadata": {},
   "outputs": [],
   "source": [
    "while True:\n",
    "    def hesapla(x,y):\n",
    "        if islem ==\"+\":\n",
    "            print(f'{x} + {y} = {x+y}')\n",
    "        if islem ==\"-\":\n",
    "            print(f'{x} * {y} = {x-y}')\n",
    "        if islem ==\"/\":\n",
    "            print(f'{x} / {y} = {x/y}')\n",
    "        if islem ==\"*\":\n",
    "            print(f'{x} * {y} = {x*y}')\n",
    "\n",
    "try:\n",
    "    x = int(input(\"lütfen birinci sayıyı giriniz: \"))\n",
    "    y = int(input(\"ikinci sayıyı giriniz: \"))\n",
    "    islem = input(\"Lütfen işlemi seçiniz +-/*: \")\n",
    "except:\n",
    "    print(\"Lütfen dogru değer giriniz...\")\n",
    "    \n",
    "hesapla(x,y)\n",
    "\n",
    "    "
   ]
  },
  {
   "cell_type": "code",
   "execution_count": null,
   "metadata": {},
   "outputs": [],
   "source": []
  },
  {
   "cell_type": "code",
   "execution_count": null,
   "metadata": {},
   "outputs": [],
   "source": []
  },
  {
   "cell_type": "code",
   "execution_count": null,
   "metadata": {},
   "outputs": [],
   "source": []
  },
  {
   "cell_type": "code",
   "execution_count": null,
   "metadata": {},
   "outputs": [],
   "source": []
  },
  {
   "cell_type": "code",
   "execution_count": null,
   "metadata": {},
   "outputs": [],
   "source": []
  },
  {
   "cell_type": "code",
   "execution_count": null,
   "metadata": {},
   "outputs": [],
   "source": []
  },
  {
   "cell_type": "code",
   "execution_count": null,
   "metadata": {},
   "outputs": [],
   "source": []
  }
 ],
 "metadata": {
  "kernelspec": {
   "display_name": "Python 3",
   "language": "python",
   "name": "python3"
  },
  "language_info": {
   "codemirror_mode": {
    "name": "ipython",
    "version": 3
   },
   "file_extension": ".py",
   "mimetype": "text/x-python",
   "name": "python",
   "nbconvert_exporter": "python",
   "pygments_lexer": "ipython3",
   "version": "3.7.6"
  }
 },
 "nbformat": 4,
 "nbformat_minor": 4
}
