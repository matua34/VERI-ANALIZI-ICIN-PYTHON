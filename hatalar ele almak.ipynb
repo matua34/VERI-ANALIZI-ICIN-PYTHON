{
 "cells": [
  {
   "cell_type": "code",
   "execution_count": 3,
   "metadata": {},
   "outputs": [],
   "source": [
    "def topla(numara1,numara2):\n",
    "    return numara1+numara2"
   ]
  },
  {
   "cell_type": "code",
   "execution_count": 4,
   "metadata": {},
   "outputs": [
    {
     "name": "stdout",
     "output_type": "stream",
     "text": [
      "birinci sayıyı gir:10\n",
      "ikinci sayıyı gir:20\n"
     ]
    }
   ],
   "source": [
    "x = int(input(\"birinci sayıyı gir:\"))\n",
    "y = int(input(\"ikinci sayıyı gir:\"))\n"
   ]
  },
  {
   "cell_type": "code",
   "execution_count": 5,
   "metadata": {},
   "outputs": [
    {
     "data": {
      "text/plain": [
       "30"
      ]
     },
     "execution_count": 5,
     "metadata": {},
     "output_type": "execute_result"
    }
   ],
   "source": [
    "topla(x,y)"
   ]
  },
  {
   "cell_type": "markdown",
   "metadata": {},
   "source": [
    "## TrY EXCEPT AND FİNALLY"
   ]
  },
  {
   "cell_type": "code",
   "execution_count": 20,
   "metadata": {},
   "outputs": [
    {
     "name": "stdout",
     "output_type": "stream",
     "text": [
      "birinci sayıyı gir:55\n",
      "ikinci sayıyı gir:77\n",
      "Teşekkürler...\n",
      "Son.\n",
      "Toplam sonucu: 132\n"
     ]
    }
   ],
   "source": [
    "    while True:\n",
    "        try:\n",
    "            x = int(input(\"birinci sayıyı gir:\"))\n",
    "            y = int(input(\"ikinci sayıyı gir:\"))\n",
    "        except:\n",
    "            print(\"Lütfen doğru deger giriniz.\")\n",
    "            continue\n",
    "        else:\n",
    "            print(\"Teşekkürler...\")\n",
    "            break\n",
    "        finally:\n",
    "            print(\"Son.\")\n",
    "sonuc = topla(x,y)\n",
    "print(\"Toplam sonucu: \" + str(sonuc))"
   ]
  },
  {
   "cell_type": "code",
   "execution_count": null,
   "metadata": {},
   "outputs": [],
   "source": []
  },
  {
   "cell_type": "code",
   "execution_count": null,
   "metadata": {},
   "outputs": [],
   "source": []
  }
 ],
 "metadata": {
  "kernelspec": {
   "display_name": "Python 3",
   "language": "python",
   "name": "python3"
  },
  "language_info": {
   "codemirror_mode": {
    "name": "ipython",
    "version": 3
   },
   "file_extension": ".py",
   "mimetype": "text/x-python",
   "name": "python",
   "nbconvert_exporter": "python",
   "pygments_lexer": "ipython3",
   "version": "3.7.6"
  }
 },
 "nbformat": 4,
 "nbformat_minor": 4
}
