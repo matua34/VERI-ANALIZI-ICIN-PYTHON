{
 "cells": [
  {
   "cell_type": "code",
   "execution_count": 9,
   "metadata": {},
   "outputs": [],
   "source": [
    "import numpy as np\n",
    "import pandas as pd\n",
    "import matplotlib.pyplot as plt\n",
    "%matplotlib inline\n",
    "import seaborn as sbn"
   ]
  },
  {
   "cell_type": "code",
   "execution_count": 10,
   "metadata": {},
   "outputs": [],
   "source": [
    "veri = pd.read_csv(\"Covid19_Turkey_Data.csv\")"
   ]
  },
  {
   "cell_type": "code",
   "execution_count": 11,
   "metadata": {},
   "outputs": [
    {
     "name": "stdout",
     "output_type": "stream",
     "text": [
      "<class 'pandas.core.frame.DataFrame'>\n",
      "RangeIndex: 40 entries, 0 to 39\n",
      "Data columns (total 7 columns):\n",
      " #   Column                Non-Null Count  Dtype \n",
      "---  ------                --------------  ----- \n",
      " 0   Date                  40 non-null     object\n",
      " 1   Country               40 non-null     object\n",
      " 2   Test_Per_Day          40 non-null     int64 \n",
      " 3   Cases                 40 non-null     int64 \n",
      " 4   Total_Intensive_Care  40 non-null     int64 \n",
      " 5   Deaths                40 non-null     int64 \n",
      " 6   Recovered             40 non-null     int64 \n",
      "dtypes: int64(5), object(2)\n",
      "memory usage: 2.3+ KB\n"
     ]
    }
   ],
   "source": [
    "veri.info()"
   ]
  },
  {
   "cell_type": "code",
   "execution_count": 12,
   "metadata": {},
   "outputs": [
    {
     "data": {
      "text/html": [
       "<div>\n",
       "<style scoped>\n",
       "    .dataframe tbody tr th:only-of-type {\n",
       "        vertical-align: middle;\n",
       "    }\n",
       "\n",
       "    .dataframe tbody tr th {\n",
       "        vertical-align: top;\n",
       "    }\n",
       "\n",
       "    .dataframe thead th {\n",
       "        text-align: right;\n",
       "    }\n",
       "</style>\n",
       "<table border=\"1\" class=\"dataframe\">\n",
       "  <thead>\n",
       "    <tr style=\"text-align: right;\">\n",
       "      <th></th>\n",
       "      <th>count</th>\n",
       "      <th>mean</th>\n",
       "      <th>std</th>\n",
       "      <th>min</th>\n",
       "      <th>25%</th>\n",
       "      <th>50%</th>\n",
       "      <th>75%</th>\n",
       "      <th>max</th>\n",
       "    </tr>\n",
       "  </thead>\n",
       "  <tbody>\n",
       "    <tr>\n",
       "      <th>Test_Per_Day</th>\n",
       "      <td>40.0</td>\n",
       "      <td>14773.700</td>\n",
       "      <td>13932.623651</td>\n",
       "      <td>0.0</td>\n",
       "      <td>2006.50</td>\n",
       "      <td>10758.5</td>\n",
       "      <td>25819.5</td>\n",
       "      <td>40520.0</td>\n",
       "    </tr>\n",
       "    <tr>\n",
       "      <th>Cases</th>\n",
       "      <td>40.0</td>\n",
       "      <td>22426.550</td>\n",
       "      <td>26523.752860</td>\n",
       "      <td>1.0</td>\n",
       "      <td>592.25</td>\n",
       "      <td>10022.0</td>\n",
       "      <td>39240.0</td>\n",
       "      <td>82329.0</td>\n",
       "    </tr>\n",
       "    <tr>\n",
       "      <th>Total_Intensive_Care</th>\n",
       "      <td>40.0</td>\n",
       "      <td>774.675</td>\n",
       "      <td>758.965199</td>\n",
       "      <td>0.0</td>\n",
       "      <td>0.00</td>\n",
       "      <td>646.5</td>\n",
       "      <td>1507.0</td>\n",
       "      <td>1894.0</td>\n",
       "    </tr>\n",
       "    <tr>\n",
       "      <th>Deaths</th>\n",
       "      <td>40.0</td>\n",
       "      <td>476.150</td>\n",
       "      <td>587.570205</td>\n",
       "      <td>0.0</td>\n",
       "      <td>7.75</td>\n",
       "      <td>149.5</td>\n",
       "      <td>836.0</td>\n",
       "      <td>1890.0</td>\n",
       "    </tr>\n",
       "    <tr>\n",
       "      <th>Recovered</th>\n",
       "      <td>40.0</td>\n",
       "      <td>1501.675</td>\n",
       "      <td>2561.119140</td>\n",
       "      <td>0.0</td>\n",
       "      <td>0.00</td>\n",
       "      <td>133.5</td>\n",
       "      <td>1920.0</td>\n",
       "      <td>10453.0</td>\n",
       "    </tr>\n",
       "  </tbody>\n",
       "</table>\n",
       "</div>"
      ],
      "text/plain": [
       "                      count       mean           std  min      25%      50%  \\\n",
       "Test_Per_Day           40.0  14773.700  13932.623651  0.0  2006.50  10758.5   \n",
       "Cases                  40.0  22426.550  26523.752860  1.0   592.25  10022.0   \n",
       "Total_Intensive_Care   40.0    774.675    758.965199  0.0     0.00    646.5   \n",
       "Deaths                 40.0    476.150    587.570205  0.0     7.75    149.5   \n",
       "Recovered              40.0   1501.675   2561.119140  0.0     0.00    133.5   \n",
       "\n",
       "                          75%      max  \n",
       "Test_Per_Day          25819.5  40520.0  \n",
       "Cases                 39240.0  82329.0  \n",
       "Total_Intensive_Care   1507.0   1894.0  \n",
       "Deaths                  836.0   1890.0  \n",
       "Recovered              1920.0  10453.0  "
      ]
     },
     "execution_count": 12,
     "metadata": {},
     "output_type": "execute_result"
    }
   ],
   "source": [
    "veri.describe().T"
   ]
  },
  {
   "cell_type": "code",
   "execution_count": 13,
   "metadata": {},
   "outputs": [
    {
     "data": {
      "text/plain": [
       "pandas.core.frame.DataFrame"
      ]
     },
     "execution_count": 13,
     "metadata": {},
     "output_type": "execute_result"
    }
   ],
   "source": [
    "type(veri)"
   ]
  },
  {
   "cell_type": "code",
   "execution_count": 14,
   "metadata": {},
   "outputs": [
    {
     "data": {
      "text/plain": [
       "[<matplotlib.lines.Line2D at 0x1bc9cf95f48>]"
      ]
     },
     "execution_count": 14,
     "metadata": {},
     "output_type": "execute_result"
    },
    {
     "data": {
      "image/png": "[encoded data removed]",
      "text/plain": [
       "<Figure size 432x288 with 1 Axes>"
      ]
     },
     "metadata": {
      "needs_background": "light"
     },
     "output_type": "display_data"
    }
   ],
   "source": [
    "plt.plot(veri[\"Cases\"])"
   ]
  },
  {
   "cell_type": "code",
   "execution_count": null,
   "metadata": {},
   "outputs": [],
   "source": [
    "sbn.scatterplot(x=)"
   ]
  },
  {
   "cell_type": "code",
   "execution_count": null,
   "metadata": {},
   "outputs": [],
   "source": []
  },
  {
   "cell_type": "code",
   "execution_count": null,
   "metadata": {},
   "outputs": [],
   "source": []
  },
  {
   "cell_type": "code",
   "execution_count": null,
   "metadata": {},
   "outputs": [],
   "source": []
  },
  {
   "cell_type": "code",
   "execution_count": null,
   "metadata": {},
   "outputs": [],
   "source": []
  },
  {
   "cell_type": "code",
   "execution_count": null,
   "metadata": {},
   "outputs": [],
   "source": []
  }
 ],
 "metadata": {
  "kernelspec": {
   "display_name": "Python 3",
   "language": "python",
   "name": "python3"
  },
  "language_info": {
   "codemirror_mode": {
    "name": "ipython",
    "version": 3
   },
   "file_extension": ".py",
   "mimetype": "text/x-python",
   "name": "python",
   "nbconvert_exporter": "python",
   "pygments_lexer": "ipython3",
   "version": "3.7.6"
  }
 },
 "nbformat": 4,
 "nbformat_minor": 4
}
