{
 "cells": [
  {
   "cell_type": "code",
   "execution_count": 5,
   "metadata": {},
   "outputs": [
    {
     "name": "stdout",
     "output_type": "stream",
     "text": [
      "if koşulu sağlanmadı\n"
     ]
    }
   ],
   "source": [
    "if 5<4 :\n",
    "    print(\"metin alparslan\")\n",
    "    print(\"if koşulu sağlandı\")\n",
    "print(\"if koşulu sağlanmadı\")"
   ]
  },
  {
   "cell_type": "code",
   "execution_count": 1,
   "metadata": {},
   "outputs": [
    {
     "name": "stdout",
     "output_type": "stream",
     "text": [
      "kahraman seçiniz: süperman\n"
     ]
    }
   ],
   "source": [
    "kahraman = input(\"kahraman seçiniz: \")"
   ]
  },
  {
   "cell_type": "code",
   "execution_count": 2,
   "metadata": {},
   "outputs": [
    {
     "name": "stdout",
     "output_type": "stream",
     "text": [
      "keşke biraz daha düşünseydiniz.\n"
     ]
    }
   ],
   "source": [
    "if kahraman == \"batman\":\n",
    "    print(\"tebrikler\")\n",
    "elif kahraman ==\"süperman\":\n",
    "    print(\"keşke biraz daha düşünseydiniz.\")\n",
    "elif kahraman == \"ironman\":\n",
    "    print(\"çok düşündünüz...\")"
   ]
  },
  {
   "cell_type": "code",
   "execution_count": 13,
   "metadata": {},
   "outputs": [
    {
     "name": "stdout",
     "output_type": "stream",
     "text": [
      "karakter canı gir: 2\n"
     ]
    }
   ],
   "source": [
    "karaktercanı = int(input(\"karakter canı gir: \")) "
   ]
  },
  {
   "cell_type": "code",
   "execution_count": 14,
   "metadata": {},
   "outputs": [
    {
     "name": "stdout",
     "output_type": "stream",
     "text": [
      "oyundan çıkın.\n"
     ]
    }
   ],
   "source": [
    "if karaktercanı <=10 and karaktercanı >5:\n",
    "    print(\"Oyuncunuz sağlıklı\")\n",
    "elif karaktercanı<=5 and karaktercanı>=3:\n",
    "    print(\"oyuncunuza dikkat edin.\")\n",
    "elif karaktercanı <3 and karaktercanı>=1:\n",
    "    print(\"oyundan çıkın.\")\n",
    "else:\n",
    "    print(\"oyunca dead.\")"
   ]
  },
  {
   "cell_type": "code",
   "execution_count": 15,
   "metadata": {},
   "outputs": [],
   "source": [
    "yaz = \"bahardan sonra\""
   ]
  },
  {
   "cell_type": "code",
   "execution_count": 17,
   "metadata": {},
   "outputs": [
    {
     "name": "stdout",
     "output_type": "stream",
     "text": [
      "yokmuş.\n"
     ]
    }
   ],
   "source": [
    "if \"Bahar\" in yaz: \n",
    "    print(\"varmış.\")\n",
    "else:\n",
    "    print(\"yokmuş.\")"
   ]
  },
  {
   "cell_type": "code",
   "execution_count": 19,
   "metadata": {},
   "outputs": [],
   "source": [
    "listem = [10,20,3,40,50,60,70]"
   ]
  },
  {
   "cell_type": "code",
   "execution_count": 20,
   "metadata": {},
   "outputs": [
    {
     "name": "stdout",
     "output_type": "stream",
     "text": [
      "varmış.\n"
     ]
    }
   ],
   "source": [
    "if 20 in listem:\n",
    "    print(\"varmış.\")"
   ]
  },
  {
   "cell_type": "code",
   "execution_count": null,
   "metadata": {},
   "outputs": [],
   "source": []
  }
 ],
 "metadata": {
  "kernelspec": {
   "display_name": "Python 3",
   "language": "python",
   "name": "python3"
  },
  "language_info": {
   "codemirror_mode": {
    "name": "ipython",
    "version": 3
   },
   "file_extension": ".py",
   "mimetype": "text/x-python",
   "name": "python",
   "nbconvert_exporter": "python",
   "pygments_lexer": "ipython3",
   "version": "3.7.6"
  }
 },
 "nbformat": 4,
 "nbformat_minor": 4
}
