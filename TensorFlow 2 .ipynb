{
 "cells": [
  {
   "cell_type": "code",
   "execution_count": 1,
   "metadata": {},
   "outputs": [],
   "source": [
    "import numpy as np\n",
    "import pandas as pd\n",
    "import matplotlib.pyplot as plt\n",
    "import seaborn as sbn"
   ]
  },
  {
   "cell_type": "code",
   "execution_count": 2,
   "metadata": {},
   "outputs": [
    {
     "data": {
      "text/html": [
       "<div>\n",
       "<style scoped>\n",
       "    .dataframe tbody tr th:only-of-type {\n",
       "        vertical-align: middle;\n",
       "    }\n",
       "\n",
       "    .dataframe tbody tr th {\n",
       "        vertical-align: top;\n",
       "    }\n",
       "\n",
       "    .dataframe thead th {\n",
       "        text-align: right;\n",
       "    }\n",
       "</style>\n",
       "<table border=\"1\" class=\"dataframe\">\n",
       "  <thead>\n",
       "    <tr style=\"text-align: right;\">\n",
       "      <th></th>\n",
       "      <th>ÜRETİM YILI</th>\n",
       "      <th>KM BİLGİSİ (km)</th>\n",
       "      <th>FİYATI (TL)</th>\n",
       "    </tr>\n",
       "  </thead>\n",
       "  <tbody>\n",
       "    <tr>\n",
       "      <th>0</th>\n",
       "      <td>2017</td>\n",
       "      <td>29147</td>\n",
       "      <td>842</td>\n",
       "    </tr>\n",
       "    <tr>\n",
       "      <th>1</th>\n",
       "      <td>2018</td>\n",
       "      <td>73925</td>\n",
       "      <td>796</td>\n",
       "    </tr>\n",
       "    <tr>\n",
       "      <th>2</th>\n",
       "      <td>2019</td>\n",
       "      <td>45049</td>\n",
       "      <td>881</td>\n",
       "    </tr>\n",
       "    <tr>\n",
       "      <th>3</th>\n",
       "      <td>2019</td>\n",
       "      <td>61865</td>\n",
       "      <td>787</td>\n",
       "    </tr>\n",
       "    <tr>\n",
       "      <th>4</th>\n",
       "      <td>2017</td>\n",
       "      <td>58836</td>\n",
       "      <td>762</td>\n",
       "    </tr>\n",
       "    <tr>\n",
       "      <th>...</th>\n",
       "      <td>...</td>\n",
       "      <td>...</td>\n",
       "      <td>...</td>\n",
       "    </tr>\n",
       "    <tr>\n",
       "      <th>1995</th>\n",
       "      <td>2017</td>\n",
       "      <td>77619</td>\n",
       "      <td>701</td>\n",
       "    </tr>\n",
       "    <tr>\n",
       "      <th>1996</th>\n",
       "      <td>2015</td>\n",
       "      <td>76798</td>\n",
       "      <td>808</td>\n",
       "    </tr>\n",
       "    <tr>\n",
       "      <th>1997</th>\n",
       "      <td>2018</td>\n",
       "      <td>14877</td>\n",
       "      <td>718</td>\n",
       "    </tr>\n",
       "    <tr>\n",
       "      <th>1998</th>\n",
       "      <td>2017</td>\n",
       "      <td>12151</td>\n",
       "      <td>799</td>\n",
       "    </tr>\n",
       "    <tr>\n",
       "      <th>1999</th>\n",
       "      <td>2016</td>\n",
       "      <td>22333</td>\n",
       "      <td>821</td>\n",
       "    </tr>\n",
       "  </tbody>\n",
       "</table>\n",
       "<p>2000 rows × 3 columns</p>\n",
       "</div>"
      ],
      "text/plain": [
       "      ÜRETİM YILI  KM BİLGİSİ (km)  FİYATI (TL)\n",
       "0            2017            29147          842\n",
       "1            2018            73925          796\n",
       "2            2019            45049          881\n",
       "3            2019            61865          787\n",
       "4            2017            58836          762\n",
       "...           ...              ...          ...\n",
       "1995         2017            77619          701\n",
       "1996         2015            76798          808\n",
       "1997         2018            14877          718\n",
       "1998         2017            12151          799\n",
       "1999         2016            22333          821\n",
       "\n",
       "[2000 rows x 3 columns]"
      ]
     },
     "execution_count": 2,
     "metadata": {},
     "output_type": "execute_result"
    }
   ],
   "source": [
    "fiyat = np.random.randint(690,895,2000)\n",
    "yıl = np.random.randint(2015,2020,2000)\n",
    "km = np.random.randint(11000,78000,2000)\n",
    "liste = list(zip(yıl,km,fiyat))\n",
    "fytlist = pd.DataFrame(liste,columns =[\"ÜRETİM YILI\", \"KM BİLGİSİ (km)\",\"FİYATI (TL)\"])\n",
    "fytlist\n"
   ]
  },
  {
   "cell_type": "code",
   "execution_count": null,
   "metadata": {},
   "outputs": [],
   "source": []
  },
  {
   "cell_type": "markdown",
   "metadata": {},
   "source": [
    "# VERİYİ İKİYE BÖLELİM "
   ]
  },
  {
   "cell_type": "code",
   "execution_count": 3,
   "metadata": {},
   "outputs": [],
   "source": [
    "from sklearn.model_selection import train_test_split"
   ]
  },
  {
   "cell_type": "code",
   "execution_count": 4,
   "metadata": {},
   "outputs": [],
   "source": [
    "# y = wx + b\n",
    "# y--->label\n",
    "y = fytlist[\"FİYATI (TL)\"].values\n",
    "\n",
    "# x --> feature (özellik)\n",
    "x = fytlist[[\"KM BİLGİSİ (km)\",\"ÜRETİM YILI\"]]"
   ]
  },
  {
   "cell_type": "code",
   "execution_count": 8,
   "metadata": {},
   "outputs": [],
   "source": [
    "x_train,x_test,y_train,y_test = train_test_split(x,y,test_size = 0.3,random_state = 20)"
   ]
  },
  {
   "cell_type": "code",
   "execution_count": 9,
   "metadata": {},
   "outputs": [
    {
     "data": {
      "text/plain": [
       "(1400, 2)"
      ]
     },
     "execution_count": 9,
     "metadata": {},
     "output_type": "execute_result"
    }
   ],
   "source": [
    "x_train.shape"
   ]
  },
  {
   "cell_type": "code",
   "execution_count": 10,
   "metadata": {},
   "outputs": [
    {
     "data": {
      "text/plain": [
       "(600, 2)"
      ]
     },
     "execution_count": 10,
     "metadata": {},
     "output_type": "execute_result"
    }
   ],
   "source": [
    "x_test.shape"
   ]
  },
  {
   "cell_type": "code",
   "execution_count": 11,
   "metadata": {},
   "outputs": [
    {
     "data": {
      "text/plain": [
       "MinMaxScaler(copy=True, feature_range=(0, 1))"
      ]
     },
     "execution_count": 11,
     "metadata": {},
     "output_type": "execute_result"
    }
   ],
   "source": [
    "#scaling yapalım\n",
    "from sklearn.preprocessing import MinMaxScaler\n",
    "scaler = MinMaxScaler()\n",
    "scaler.fit(x_train)"
   ]
  },
  {
   "cell_type": "code",
   "execution_count": 12,
   "metadata": {},
   "outputs": [],
   "source": [
    "x_train = scaler.transform(x_train)\n",
    "x_test = scaler.transform(x_test)"
   ]
  },
  {
   "cell_type": "code",
   "execution_count": 14,
   "metadata": {},
   "outputs": [],
   "source": [
    "import tensorflow as tf\n",
    "from tensorflow.keras.models import Sequential \n",
    "from tensorflow.keras.layers import Dense"
   ]
  },
  {
   "cell_type": "code",
   "execution_count": 15,
   "metadata": {},
   "outputs": [
    {
     "name": "stdout",
     "output_type": "stream",
     "text": [
      "WARNING:tensorflow:From C:\\Users\\metea\\anaconda3\\lib\\site-packages\\tensorflow\\python\\ops\\init_ops.py:1251: calling VarianceScaling.__init__ (from tensorflow.python.ops.init_ops) with dtype is deprecated and will be removed in a future version.\n",
      "Instructions for updating:\n",
      "Call initializer instance with the dtype argument instead of passing it to the constructor\n"
     ]
    }
   ],
   "source": [
    "model = Sequential()\n",
    "model.add(Dense(5,activation = \"relu\"))\n",
    "model.add(Dense(10,activation = \"relu\"))\n",
    "model.add(Dense(15,activation = \"relu\"))\n",
    "model.add(Dense(2,activation = \"relu\"))\n",
    "model.add(Dense(6,activation = \"relu\"))\n",
    "\n",
    "model.add(Dense(1))\n",
    "model.compile(optimizer = \"rmsprop\", loss = \"mse\")"
   ]
  },
  {
   "cell_type": "code",
   "execution_count": 16,
   "metadata": {},
   "outputs": [
    {
     "name": "stdout",
     "output_type": "stream",
     "text": [
      "Epoch 1/100\n",
      "1400/1400 [==============================] - 1s 423us/sample - loss: 633236.6754\n",
      "Epoch 2/100\n",
      "1400/1400 [==============================] - 0s 35us/sample - loss: 633164.6757\n",
      "Epoch 3/100\n",
      "1400/1400 [==============================] - 0s 32us/sample - loss: 633094.9282\n",
      "Epoch 4/100\n",
      "1400/1400 [==============================] - 0s 28us/sample - loss: 633025.1075\n",
      "Epoch 5/100\n",
      "1400/1400 [==============================] - 0s 28us/sample - loss: 632955.1725\n",
      "Epoch 6/100\n",
      "1400/1400 [==============================] - 0s 27us/sample - loss: 632885.3589\n",
      "Epoch 7/100\n",
      "1400/1400 [==============================] - 0s 27us/sample - loss: 632815.5675\n",
      "Epoch 8/100\n",
      "1400/1400 [==============================] - 0s 28us/sample - loss: 632745.8411\n",
      "Epoch 9/100\n",
      "1400/1400 [==============================] - 0s 29us/sample - loss: 632675.9946\n",
      "Epoch 10/100\n",
      "1400/1400 [==============================] - 0s 28us/sample - loss: 632606.1604\n",
      "Epoch 11/100\n",
      "1400/1400 [==============================] - 0s 27us/sample - loss: 632536.4275\n",
      "Epoch 12/100\n",
      "1400/1400 [==============================] - 0s 27us/sample - loss: 632466.6575\n",
      "Epoch 13/100\n",
      "1400/1400 [==============================] - 0s 27us/sample - loss: 632396.8743\n",
      "Epoch 14/100\n",
      "1400/1400 [==============================] - 0s 27us/sample - loss: 632327.0939\n",
      "Epoch 15/100\n",
      "1400/1400 [==============================] - 0s 28us/sample - loss: 632257.2161\n",
      "Epoch 16/100\n",
      "1400/1400 [==============================] - 0s 28us/sample - loss: 632187.5046\n",
      "Epoch 17/100\n",
      "1400/1400 [==============================] - 0s 26us/sample - loss: 632117.7557\n",
      "Epoch 18/100\n",
      "1400/1400 [==============================] - 0s 27us/sample - loss: 632047.9739\n",
      "Epoch 19/100\n",
      "1400/1400 [==============================] - 0s 27us/sample - loss: 631978.1911\n",
      "Epoch 20/100\n",
      "1400/1400 [==============================] - 0s 27us/sample - loss: 631908.4857\n",
      "Epoch 21/100\n",
      "1400/1400 [==============================] - 0s 26us/sample - loss: 631838.7243\n",
      "Epoch 22/100\n",
      "1400/1400 [==============================] - 0s 28us/sample - loss: 631769.0229\n",
      "Epoch 23/100\n",
      "1400/1400 [==============================] - 0s 26us/sample - loss: 631699.2757\n",
      "Epoch 24/100\n",
      "1400/1400 [==============================] - 0s 26us/sample - loss: 631629.4504\n",
      "Epoch 25/100\n",
      "1400/1400 [==============================] - 0s 27us/sample - loss: 631559.7589\n",
      "Epoch 26/100\n",
      "1400/1400 [==============================] - 0s 27us/sample - loss: 631489.9800\n",
      "Epoch 27/100\n",
      "1400/1400 [==============================] - 0s 27us/sample - loss: 631420.2611\n",
      "Epoch 28/100\n",
      "1400/1400 [==============================] - 0s 27us/sample - loss: 631350.5125\n",
      "Epoch 29/100\n",
      "1400/1400 [==============================] - 0s 27us/sample - loss: 631280.8018\n",
      "Epoch 30/100\n",
      "1400/1400 [==============================] - 0s 27us/sample - loss: 631211.0704\n",
      "Epoch 31/100\n",
      "1400/1400 [==============================] - 0s 28us/sample - loss: 631141.3657\n",
      "Epoch 32/100\n",
      "1400/1400 [==============================] - 0s 26us/sample - loss: 631071.6518\n",
      "Epoch 33/100\n",
      "1400/1400 [==============================] - 0s 28us/sample - loss: 631001.9371\n",
      "Epoch 34/100\n",
      "1400/1400 [==============================] - 0s 26us/sample - loss: 630932.2432\n",
      "Epoch 35/100\n",
      "1400/1400 [==============================] - 0s 27us/sample - loss: 630862.5589\n",
      "Epoch 36/100\n",
      "1400/1400 [==============================] - 0s 27us/sample - loss: 630792.8664\n",
      "Epoch 37/100\n",
      "1400/1400 [==============================] - 0s 28us/sample - loss: 630723.2175\n",
      "Epoch 38/100\n",
      "1400/1400 [==============================] - 0s 27us/sample - loss: 630653.5239\n",
      "Epoch 39/100\n",
      "1400/1400 [==============================] - 0s 27us/sample - loss: 630583.8154\n",
      "Epoch 40/100\n",
      "1400/1400 [==============================] - 0s 27us/sample - loss: 630514.1475\n",
      "Epoch 41/100\n",
      "1400/1400 [==============================] - 0s 28us/sample - loss: 630444.4546\n",
      "Epoch 42/100\n",
      "1400/1400 [==============================] - 0s 27us/sample - loss: 630374.7489\n",
      "Epoch 43/100\n",
      "1400/1400 [==============================] - 0s 27us/sample - loss: 630305.1343\n",
      "Epoch 44/100\n",
      "1400/1400 [==============================] - 0s 27us/sample - loss: 630235.5039\n",
      "Epoch 45/100\n",
      "1400/1400 [==============================] - 0s 27us/sample - loss: 630165.7743\n",
      "Epoch 46/100\n",
      "1400/1400 [==============================] - 0s 27us/sample - loss: 630096.1657\n",
      "Epoch 47/100\n",
      "1400/1400 [==============================] - 0s 26us/sample - loss: 630026.4436\n",
      "Epoch 48/100\n",
      "1400/1400 [==============================] - 0s 28us/sample - loss: 629956.7439\n",
      "Epoch 49/100\n",
      "1400/1400 [==============================] - 0s 27us/sample - loss: 629887.0661\n",
      "Epoch 50/100\n",
      "1400/1400 [==============================] - 0s 27us/sample - loss: 629817.4236\n",
      "Epoch 51/100\n",
      "1400/1400 [==============================] - 0s 27us/sample - loss: 629747.8757\n",
      "Epoch 52/100\n",
      "1400/1400 [==============================] - 0s 26us/sample - loss: 629678.2686\n",
      "Epoch 53/100\n",
      "1400/1400 [==============================] - 0s 27us/sample - loss: 629608.6557\n",
      "Epoch 54/100\n",
      "1400/1400 [==============================] - 0s 27us/sample - loss: 629539.0000\n",
      "Epoch 55/100\n",
      "1400/1400 [==============================] - 0s 27us/sample - loss: 629469.3625\n",
      "Epoch 56/100\n",
      "1400/1400 [==============================] - 0s 26us/sample - loss: 629399.7625\n",
      "Epoch 57/100\n",
      "1400/1400 [==============================] - 0s 27us/sample - loss: 629330.1425\n",
      "Epoch 58/100\n",
      "1400/1400 [==============================] - 0s 28us/sample - loss: 629260.5375\n",
      "Epoch 59/100\n",
      "1400/1400 [==============================] - 0s 18us/sample - loss: 629190.9668\n",
      "Epoch 60/100\n",
      "1400/1400 [==============================] - 0s 39us/sample - loss: 629121.4132\n",
      "Epoch 61/100\n",
      "1400/1400 [==============================] - 0s 28us/sample - loss: 629051.7225\n",
      "Epoch 62/100\n",
      "1400/1400 [==============================] - 0s 28us/sample - loss: 628982.1825\n",
      "Epoch 63/100\n",
      "1400/1400 [==============================] - 0s 27us/sample - loss: 628912.5068\n",
      "Epoch 64/100\n",
      "1400/1400 [==============================] - 0s 29us/sample - loss: 628842.9625\n",
      "Epoch 65/100\n",
      "1400/1400 [==============================] - 0s 28us/sample - loss: 628773.3125\n",
      "Epoch 66/100\n",
      "1400/1400 [==============================] - 0s 28us/sample - loss: 628703.8054\n",
      "Epoch 67/100\n",
      "1400/1400 [==============================] - 0s 27us/sample - loss: 628634.2307\n",
      "Epoch 68/100\n",
      "1400/1400 [==============================] - 0s 27us/sample - loss: 628564.6686\n",
      "Epoch 69/100\n",
      "1400/1400 [==============================] - 0s 26us/sample - loss: 628495.1000\n",
      "Epoch 70/100\n",
      "1400/1400 [==============================] - 0s 28us/sample - loss: 628425.5018\n",
      "Epoch 71/100\n",
      "1400/1400 [==============================] - 0s 27us/sample - loss: 628356.0082\n",
      "Epoch 72/100\n",
      "1400/1400 [==============================] - 0s 27us/sample - loss: 628286.4200\n",
      "Epoch 73/100\n",
      "1400/1400 [==============================] - 0s 26us/sample - loss: 628216.9082\n",
      "Epoch 74/100\n",
      "1400/1400 [==============================] - 0s 28us/sample - loss: 628147.2804\n",
      "Epoch 75/100\n",
      "1400/1400 [==============================] - 0s 28us/sample - loss: 628077.7775\n",
      "Epoch 76/100\n",
      "1400/1400 [==============================] - 0s 29us/sample - loss: 628008.1818\n",
      "Epoch 77/100\n",
      "1400/1400 [==============================] - 0s 28us/sample - loss: 627938.6339\n",
      "Epoch 78/100\n",
      "1400/1400 [==============================] - 0s 28us/sample - loss: 627869.1243\n",
      "Epoch 79/100\n",
      "1400/1400 [==============================] - 0s 27us/sample - loss: 627799.6332\n",
      "Epoch 80/100\n",
      "1400/1400 [==============================] - 0s 27us/sample - loss: 627730.0811\n",
      "Epoch 81/100\n",
      "1400/1400 [==============================] - 0s 28us/sample - loss: 627660.5875\n",
      "Epoch 82/100\n",
      "1400/1400 [==============================] - 0s 27us/sample - loss: 627591.0632\n",
      "Epoch 83/100\n",
      "1400/1400 [==============================] - 0s 27us/sample - loss: 627521.5611\n",
      "Epoch 84/100\n",
      "1400/1400 [==============================] - 0s 28us/sample - loss: 627452.0121\n",
      "Epoch 85/100\n",
      "1400/1400 [==============================] - 0s 28us/sample - loss: 627382.5268\n",
      "Epoch 86/100\n",
      "1400/1400 [==============================] - 0s 27us/sample - loss: 627312.9507\n",
      "Epoch 87/100\n",
      "1400/1400 [==============================] - 0s 28us/sample - loss: 627243.5946\n",
      "Epoch 88/100\n",
      "1400/1400 [==============================] - 0s 27us/sample - loss: 627174.1236\n",
      "Epoch 89/100\n"
     ]
    },
    {
     "name": "stdout",
     "output_type": "stream",
     "text": [
      "1400/1400 [==============================] - 0s 28us/sample - loss: 627104.6118\n",
      "Epoch 90/100\n",
      "1400/1400 [==============================] - 0s 26us/sample - loss: 627035.1079\n",
      "Epoch 91/100\n",
      "1400/1400 [==============================] - 0s 27us/sample - loss: 626965.6011\n",
      "Epoch 92/100\n",
      "1400/1400 [==============================] - 0s 27us/sample - loss: 626896.0782\n",
      "Epoch 93/100\n",
      "1400/1400 [==============================] - 0s 26us/sample - loss: 626826.6532\n",
      "Epoch 94/100\n",
      "1400/1400 [==============================] - 0s 26us/sample - loss: 626757.1118\n",
      "Epoch 95/100\n",
      "1400/1400 [==============================] - 0s 28us/sample - loss: 626687.6639\n",
      "Epoch 96/100\n",
      "1400/1400 [==============================] - 0s 26us/sample - loss: 626618.2646\n",
      "Epoch 97/100\n",
      "1400/1400 [==============================] - 0s 26us/sample - loss: 626548.7407\n",
      "Epoch 98/100\n",
      "1400/1400 [==============================] - 0s 28us/sample - loss: 626479.3346\n",
      "Epoch 99/100\n",
      "1400/1400 [==============================] - 0s 26us/sample - loss: 626409.8954\n",
      "Epoch 100/100\n",
      "1400/1400 [==============================] - 0s 27us/sample - loss: 626340.4125\n"
     ]
    },
    {
     "data": {
      "text/plain": [
       "<tensorflow.python.keras.callbacks.History at 0x267c82b8c08>"
      ]
     },
     "execution_count": 16,
     "metadata": {},
     "output_type": "execute_result"
    }
   ],
   "source": [
    "model.fit(x_train,y_train,epochs = 100)"
   ]
  },
  {
   "cell_type": "code",
   "execution_count": 17,
   "metadata": {},
   "outputs": [],
   "source": [
    " loss = model.history.history[\"loss\"]"
   ]
  },
  {
   "cell_type": "code",
   "execution_count": 19,
   "metadata": {},
   "outputs": [
    {
     "data": {
      "text/plain": [
       "<matplotlib.axes._subplots.AxesSubplot at 0x267c8bb9d08>"
      ]
     },
     "execution_count": 19,
     "metadata": {},
     "output_type": "execute_result"
    },
    {
     "data": {
      "image/png": "[encoded data removed]",
      "text/plain": [
       "<Figure size 432x288 with 1 Axes>"
      ]
     },
     "metadata": {
      "needs_background": "light"
     },
     "output_type": "display_data"
    }
   ],
   "source": [
    "sbn.lineplot(x = range(len(loss)), y = loss)"
   ]
  },
  {
   "cell_type": "code",
   "execution_count": 20,
   "metadata": {},
   "outputs": [],
   "source": [
    "egitim =model.evaluate(x_train,y_train, verbose = 0)"
   ]
  },
  {
   "cell_type": "code",
   "execution_count": 21,
   "metadata": {},
   "outputs": [],
   "source": [
    "test = model.evaluate(x_test,y_test, verbose =0)"
   ]
  },
  {
   "cell_type": "code",
   "execution_count": 22,
   "metadata": {},
   "outputs": [
    {
     "data": {
      "text/plain": [
       "622306.0633333334"
      ]
     },
     "execution_count": 22,
     "metadata": {},
     "output_type": "execute_result"
    }
   ],
   "source": [
    "test #testin sonucu"
   ]
  },
  {
   "cell_type": "code",
   "execution_count": 23,
   "metadata": {},
   "outputs": [
    {
     "data": {
      "text/plain": [
       "626304.6932142858"
      ]
     },
     "execution_count": 23,
     "metadata": {},
     "output_type": "execute_result"
    }
   ],
   "source": [
    "egitim #modelin sonucu"
   ]
  },
  {
   "cell_type": "code",
   "execution_count": 24,
   "metadata": {},
   "outputs": [],
   "source": [
    "trainloss = pd.Series(egitim)\n",
    "testloss = pd.Series(test)\n"
   ]
  },
  {
   "cell_type": "code",
   "execution_count": 25,
   "metadata": {},
   "outputs": [],
   "source": [
    "tahmin = model.predict(x_test)\n",
    "gercek = y_test"
   ]
  },
  {
   "cell_type": "code",
   "execution_count": 26,
   "metadata": {},
   "outputs": [],
   "source": [
    "tahmindf = pd.DataFrame(tahmin,columns =[\"TAHMİN\"])\n",
    "gercekdf = pd.DataFrame(gercek,columns =[\"GERCEK\"])\n",
    "\n",
    "topdf = pd.concat([tahmindf,gercekdf],axis = 1)"
   ]
  },
  {
   "cell_type": "code",
   "execution_count": 27,
   "metadata": {},
   "outputs": [
    {
     "data": {
      "text/plain": [
       "<matplotlib.axes._subplots.AxesSubplot at 0x267c9bed548>"
      ]
     },
     "execution_count": 27,
     "metadata": {},
     "output_type": "execute_result"
    },
    {
     "data": {
      "image/png": "[encoded data removed]",
      "text/plain": [
       "<Figure size 432x288 with 1 Axes>"
      ]
     },
     "metadata": {
      "needs_background": "light"
     },
     "output_type": "display_data"
    }
   ],
   "source": [
    "sbn.boxplot(topdf)"
   ]
  },
  {
   "cell_type": "code",
   "execution_count": 28,
   "metadata": {},
   "outputs": [
    {
     "data": {
      "text/plain": [
       "<matplotlib.axes._subplots.AxesSubplot at 0x267c9c8e408>"
      ]
     },
     "execution_count": 28,
     "metadata": {},
     "output_type": "execute_result"
    },
    {
     "data": {
      "image/png": "[encoded data removed]",
      "text/plain": [
       "<Figure size 432x288 with 1 Axes>"
      ]
     },
     "metadata": {
      "needs_background": "light"
     },
     "output_type": "display_data"
    }
   ],
   "source": [
    "sbn.scatterplot(data =topdf,x=\"GERCEK\",y=\"TAHMİN\")"
   ]
  },
  {
   "cell_type": "code",
   "execution_count": 29,
   "metadata": {},
   "outputs": [],
   "source": [
    "from sklearn.metrics import mean_absolute_error,mean_squared_error"
   ]
  },
  {
   "cell_type": "code",
   "execution_count": 30,
   "metadata": {},
   "outputs": [
    {
     "data": {
      "text/plain": [
       "622306.0936370832"
      ]
     },
     "execution_count": 30,
     "metadata": {},
     "output_type": "execute_result"
    }
   ],
   "source": [
    "mean_squared_error(topdf[\"GERCEK\"],topdf[\"TAHMİN\"])"
   ]
  },
  {
   "cell_type": "code",
   "execution_count": 31,
   "metadata": {},
   "outputs": [
    {
     "data": {
      "text/plain": [
       "786.6513271903991"
      ]
     },
     "execution_count": 31,
     "metadata": {},
     "output_type": "execute_result"
    }
   ],
   "source": [
    "mean_absolute_error(topdf[\"GERCEK\"],topdf[\"TAHMİN\"])"
   ]
  },
  {
   "cell_type": "code",
   "execution_count": 33,
   "metadata": {},
   "outputs": [
    {
     "data": {
      "text/html": [
       "<div>\n",
       "<style scoped>\n",
       "    .dataframe tbody tr th:only-of-type {\n",
       "        vertical-align: middle;\n",
       "    }\n",
       "\n",
       "    .dataframe tbody tr th {\n",
       "        vertical-align: top;\n",
       "    }\n",
       "\n",
       "    .dataframe thead th {\n",
       "        text-align: right;\n",
       "    }\n",
       "</style>\n",
       "<table border=\"1\" class=\"dataframe\">\n",
       "  <thead>\n",
       "    <tr style=\"text-align: right;\">\n",
       "      <th></th>\n",
       "      <th>TAHMİN</th>\n",
       "      <th>GERCEK</th>\n",
       "    </tr>\n",
       "  </thead>\n",
       "  <tbody>\n",
       "    <tr>\n",
       "      <th>count</th>\n",
       "      <td>600.000000</td>\n",
       "      <td>600.000000</td>\n",
       "    </tr>\n",
       "    <tr>\n",
       "      <th>mean</th>\n",
       "      <td>4.408687</td>\n",
       "      <td>791.060000</td>\n",
       "    </tr>\n",
       "    <tr>\n",
       "      <th>std</th>\n",
       "      <td>0.000014</td>\n",
       "      <td>59.089783</td>\n",
       "    </tr>\n",
       "    <tr>\n",
       "      <th>min</th>\n",
       "      <td>4.408673</td>\n",
       "      <td>690.000000</td>\n",
       "    </tr>\n",
       "    <tr>\n",
       "      <th>25%</th>\n",
       "      <td>4.408673</td>\n",
       "      <td>738.000000</td>\n",
       "    </tr>\n",
       "    <tr>\n",
       "      <th>50%</th>\n",
       "      <td>4.408673</td>\n",
       "      <td>791.500000</td>\n",
       "    </tr>\n",
       "    <tr>\n",
       "      <th>75%</th>\n",
       "      <td>4.408673</td>\n",
       "      <td>840.000000</td>\n",
       "    </tr>\n",
       "    <tr>\n",
       "      <th>max</th>\n",
       "      <td>4.408673</td>\n",
       "      <td>894.000000</td>\n",
       "    </tr>\n",
       "  </tbody>\n",
       "</table>\n",
       "</div>"
      ],
      "text/plain": [
       "           TAHMİN      GERCEK\n",
       "count  600.000000  600.000000\n",
       "mean     4.408687  791.060000\n",
       "std      0.000014   59.089783\n",
       "min      4.408673  690.000000\n",
       "25%      4.408673  738.000000\n",
       "50%      4.408673  791.500000\n",
       "75%      4.408673  840.000000\n",
       "max      4.408673  894.000000"
      ]
     },
     "execution_count": 33,
     "metadata": {},
     "output_type": "execute_result"
    }
   ],
   "source": [
    "topdf.describe()"
   ]
  },
  {
   "cell_type": "code",
   "execution_count": 34,
   "metadata": {},
   "outputs": [
    {
     "data": {
      "text/plain": [
       "TAHMİN     0.000000\n",
       "GERCEK    59.040521\n",
       "dtype: float64"
      ]
     },
     "execution_count": 34,
     "metadata": {},
     "output_type": "execute_result"
    }
   ],
   "source": [
    "np.std(topdf)"
   ]
  },
  {
   "cell_type": "code",
   "execution_count": 35,
   "metadata": {},
   "outputs": [
    {
     "data": {
      "text/html": [
       "<div>\n",
       "<style scoped>\n",
       "    .dataframe tbody tr th:only-of-type {\n",
       "        vertical-align: middle;\n",
       "    }\n",
       "\n",
       "    .dataframe tbody tr th {\n",
       "        vertical-align: top;\n",
       "    }\n",
       "\n",
       "    .dataframe thead th {\n",
       "        text-align: right;\n",
       "    }\n",
       "</style>\n",
       "<table border=\"1\" class=\"dataframe\">\n",
       "  <thead>\n",
       "    <tr style=\"text-align: right;\">\n",
       "      <th></th>\n",
       "      <th>TAHMİN</th>\n",
       "      <th>GERCEK</th>\n",
       "    </tr>\n",
       "  </thead>\n",
       "  <tbody>\n",
       "    <tr>\n",
       "      <th>0</th>\n",
       "      <td>4.408673</td>\n",
       "      <td>881</td>\n",
       "    </tr>\n",
       "    <tr>\n",
       "      <th>1</th>\n",
       "      <td>4.408673</td>\n",
       "      <td>863</td>\n",
       "    </tr>\n",
       "    <tr>\n",
       "      <th>2</th>\n",
       "      <td>4.408673</td>\n",
       "      <td>781</td>\n",
       "    </tr>\n",
       "    <tr>\n",
       "      <th>3</th>\n",
       "      <td>4.408673</td>\n",
       "      <td>834</td>\n",
       "    </tr>\n",
       "    <tr>\n",
       "      <th>4</th>\n",
       "      <td>4.408673</td>\n",
       "      <td>764</td>\n",
       "    </tr>\n",
       "    <tr>\n",
       "      <th>...</th>\n",
       "      <td>...</td>\n",
       "      <td>...</td>\n",
       "    </tr>\n",
       "    <tr>\n",
       "      <th>595</th>\n",
       "      <td>4.408673</td>\n",
       "      <td>861</td>\n",
       "    </tr>\n",
       "    <tr>\n",
       "      <th>596</th>\n",
       "      <td>4.408673</td>\n",
       "      <td>690</td>\n",
       "    </tr>\n",
       "    <tr>\n",
       "      <th>597</th>\n",
       "      <td>4.408673</td>\n",
       "      <td>761</td>\n",
       "    </tr>\n",
       "    <tr>\n",
       "      <th>598</th>\n",
       "      <td>4.408673</td>\n",
       "      <td>763</td>\n",
       "    </tr>\n",
       "    <tr>\n",
       "      <th>599</th>\n",
       "      <td>4.408673</td>\n",
       "      <td>793</td>\n",
       "    </tr>\n",
       "  </tbody>\n",
       "</table>\n",
       "<p>600 rows × 2 columns</p>\n",
       "</div>"
      ],
      "text/plain": [
       "       TAHMİN  GERCEK\n",
       "0    4.408673     881\n",
       "1    4.408673     863\n",
       "2    4.408673     781\n",
       "3    4.408673     834\n",
       "4    4.408673     764\n",
       "..        ...     ...\n",
       "595  4.408673     861\n",
       "596  4.408673     690\n",
       "597  4.408673     761\n",
       "598  4.408673     763\n",
       "599  4.408673     793\n",
       "\n",
       "[600 rows x 2 columns]"
      ]
     },
     "execution_count": 35,
     "metadata": {},
     "output_type": "execute_result"
    }
   ],
   "source": [
    "topdf"
   ]
  },
  {
   "cell_type": "code",
   "execution_count": null,
   "metadata": {},
   "outputs": [],
   "source": []
  },
  {
   "cell_type": "code",
   "execution_count": 36,
   "metadata": {},
   "outputs": [],
   "source": [
    "yeni = [[2016,36332]] #yeni bir bisiklet fiyat tahmini"
   ]
  },
  {
   "cell_type": "code",
   "execution_count": 37,
   "metadata": {},
   "outputs": [],
   "source": [
    "yeni= scaler.transform(yeni)\n"
   ]
  },
  {
   "cell_type": "code",
   "execution_count": 38,
   "metadata": {},
   "outputs": [
    {
     "data": {
      "text/plain": [
       "array([[4.408673]], dtype=float32)"
      ]
     },
     "execution_count": 38,
     "metadata": {},
     "output_type": "execute_result"
    }
   ],
   "source": [
    "model.predict(yeni)"
   ]
  },
  {
   "cell_type": "code",
   "execution_count": 39,
   "metadata": {},
   "outputs": [],
   "source": [
    "# ŞİMDİ BU MODELİ KAYDEDELİM.\n",
    "from tensorflow.keras.models import load_model"
   ]
  },
  {
   "cell_type": "code",
   "execution_count": 40,
   "metadata": {},
   "outputs": [],
   "source": [
    "model.save(\"Fiyat.h5\")"
   ]
  },
  {
   "cell_type": "code",
   "execution_count": 41,
   "metadata": {},
   "outputs": [
    {
     "name": "stdout",
     "output_type": "stream",
     "text": [
      "WARNING:tensorflow:From C:\\Users\\metea\\anaconda3\\lib\\site-packages\\tensorflow\\python\\ops\\init_ops.py:97: calling GlorotUniform.__init__ (from tensorflow.python.ops.init_ops) with dtype is deprecated and will be removed in a future version.\n",
      "Instructions for updating:\n",
      "Call initializer instance with the dtype argument instead of passing it to the constructor\n",
      "WARNING:tensorflow:From C:\\Users\\metea\\anaconda3\\lib\\site-packages\\tensorflow\\python\\ops\\init_ops.py:97: calling Zeros.__init__ (from tensorflow.python.ops.init_ops) with dtype is deprecated and will be removed in a future version.\n",
      "Instructions for updating:\n",
      "Call initializer instance with the dtype argument instead of passing it to the constructor\n",
      "WARNING:tensorflow:Sequential models without an `input_shape` passed to the first layer cannot reload their optimizer state. As a result, your model isstarting with a freshly initialized optimizer.\n"
     ]
    }
   ],
   "source": [
    "cagır  = load_model(\"Fiyat.h5\")"
   ]
  },
  {
   "cell_type": "code",
   "execution_count": 42,
   "metadata": {},
   "outputs": [
    {
     "data": {
      "text/plain": [
       "array([[4.408673]], dtype=float32)"
      ]
     },
     "execution_count": 42,
     "metadata": {},
     "output_type": "execute_result"
    }
   ],
   "source": [
    "cagır.predict(yeni)"
   ]
  },
  {
   "cell_type": "code",
   "execution_count": null,
   "metadata": {},
   "outputs": [],
   "source": []
  },
  {
   "cell_type": "code",
   "execution_count": null,
   "metadata": {},
   "outputs": [],
   "source": []
  }
 ],
 "metadata": {
  "kernelspec": {
   "display_name": "Python 3",
   "language": "python",
   "name": "python3"
  },
  "language_info": {
   "codemirror_mode": {
    "name": "ipython",
    "version": 3
   },
   "file_extension": ".py",
   "mimetype": "text/x-python",
   "name": "python",
   "nbconvert_exporter": "python",
   "pygments_lexer": "ipython3",
   "version": "3.7.6"
  }
 },
 "nbformat": 4,
 "nbformat_minor": 4
}
