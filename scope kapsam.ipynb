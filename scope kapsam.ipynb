{
 "cells": [
  {
   "cell_type": "markdown",
   "metadata": {},
   "source": [
    "#LOCAL, ENGLOSİNG, GLOBAL, BUİLT İN"
   ]
  },
  {
   "cell_type": "code",
   "execution_count": 9,
   "metadata": {},
   "outputs": [],
   "source": [
    "#python area is built in(gömülü) alan\n",
    "\n",
    "\n",
    "benimAdım = \"metin\"\n",
    "#global alan\n",
    "\n",
    "def benimfonk():\n",
    "    #enclosing alan\n",
    "    \n",
    "    benimAdım = \"AYLA\"\n",
    "    \n",
    "    def icfonksiyon():\n",
    "        #lacal alan\n",
    "        \n",
    "        benimAdım = \"TURGUT\"\n",
    "        print(benimAdım)\n",
    "        \n",
    "    icfonksiyon()\n",
    "    \n",
    "        \n",
    "        "
   ]
  },
  {
   "cell_type": "code",
   "execution_count": 10,
   "metadata": {},
   "outputs": [
    {
     "name": "stdout",
     "output_type": "stream",
     "text": [
      "TURGUT\n"
     ]
    }
   ],
   "source": [
    "benimfonk()"
   ]
  },
  {
   "cell_type": "code",
   "execution_count": 25,
   "metadata": {},
   "outputs": [],
   "source": [
    "y = 10\n",
    "\n",
    "def cevir(y):\n",
    "    print(y)\n",
    "    y = 5\n",
    "    print(y)\n",
    "    \n",
    "    "
   ]
  },
  {
   "cell_type": "code",
   "execution_count": 26,
   "metadata": {},
   "outputs": [
    {
     "name": "stdout",
     "output_type": "stream",
     "text": [
      "2\n",
      "5\n"
     ]
    }
   ],
   "source": [
    "cevir(2)\n"
   ]
  },
  {
   "cell_type": "code",
   "execution_count": 27,
   "metadata": {},
   "outputs": [
    {
     "data": {
      "text/plain": [
       "10"
      ]
     },
     "execution_count": 27,
     "metadata": {},
     "output_type": "execute_result"
    }
   ],
   "source": [
    "y"
   ]
  },
  {
   "cell_type": "code",
   "execution_count": 1,
   "metadata": {},
   "outputs": [],
   "source": [
    "#EĞER YAPTGIMIZ İŞLEM GLOBAL DEĞİŞKENİ ETKİLESİN İSTİYORSAK FONKSİYONUN İÇİNDE GLOBAL YAZARIZ"
   ]
  },
  {
   "cell_type": "code",
   "execution_count": 32,
   "metadata": {},
   "outputs": [],
   "source": [
    "y = 15\n",
    "def yuvarla():\n",
    "    global y\n",
    "    y = 5\n",
    "    print(y)"
   ]
  },
  {
   "cell_type": "code",
   "execution_count": 33,
   "metadata": {},
   "outputs": [
    {
     "data": {
      "text/plain": [
       "15"
      ]
     },
     "execution_count": 33,
     "metadata": {},
     "output_type": "execute_result"
    }
   ],
   "source": [
    "y"
   ]
  },
  {
   "cell_type": "code",
   "execution_count": 34,
   "metadata": {},
   "outputs": [
    {
     "name": "stdout",
     "output_type": "stream",
     "text": [
      "5\n"
     ]
    }
   ],
   "source": [
    "yuvarla()"
   ]
  },
  {
   "cell_type": "code",
   "execution_count": 35,
   "metadata": {},
   "outputs": [
    {
     "data": {
      "text/plain": [
       "5"
      ]
     },
     "execution_count": 35,
     "metadata": {},
     "output_type": "execute_result"
    }
   ],
   "source": [
    "y"
   ]
  },
  {
   "cell_type": "code",
   "execution_count": 3,
   "metadata": {},
   "outputs": [
    {
     "name": "stdout",
     "output_type": "stream",
     "text": [
      "ilk sayıyı giriniz: 10\n",
      "iknici sayıyı giriniz: 55\n",
      "yapmak istediğiniz işlemi seçiniz +-/* : K\n",
      "Lütfen şu işlemlerden birini seçiniz: +-/* \n",
      "ilk sayıyı giriniz: 45\n",
      "iknici sayıyı giriniz: KK\n"
     ]
    },
    {
     "ename": "ValueError",
     "evalue": "invalid literal for int() with base 10: 'KK'",
     "output_type": "error",
     "traceback": [
      "\u001b[1;31m---------------------------------------------------------------------------\u001b[0m",
      "\u001b[1;31mValueError\u001b[0m                                Traceback (most recent call last)",
      "\u001b[1;32m<ipython-input-3-392c01b156f8>\u001b[0m in \u001b[0;36m<module>\u001b[1;34m\u001b[0m\n\u001b[0;32m     15\u001b[0m \u001b[1;32mwhile\u001b[0m \u001b[1;32mTrue\u001b[0m\u001b[1;33m:\u001b[0m\u001b[1;33m\u001b[0m\u001b[1;33m\u001b[0m\u001b[0m\n\u001b[0;32m     16\u001b[0m     \u001b[0mx\u001b[0m \u001b[1;33m=\u001b[0m \u001b[0mint\u001b[0m\u001b[1;33m(\u001b[0m\u001b[0minput\u001b[0m\u001b[1;33m(\u001b[0m\u001b[1;34m\"ilk sayıyı giriniz: \"\u001b[0m\u001b[1;33m)\u001b[0m\u001b[1;33m)\u001b[0m\u001b[1;33m\u001b[0m\u001b[1;33m\u001b[0m\u001b[0m\n\u001b[1;32m---> 17\u001b[1;33m     \u001b[0my\u001b[0m \u001b[1;33m=\u001b[0m \u001b[0mint\u001b[0m\u001b[1;33m(\u001b[0m\u001b[0minput\u001b[0m\u001b[1;33m(\u001b[0m\u001b[1;34m\"iknici sayıyı giriniz: \"\u001b[0m\u001b[1;33m)\u001b[0m\u001b[1;33m)\u001b[0m\u001b[1;33m\u001b[0m\u001b[1;33m\u001b[0m\u001b[0m\n\u001b[0m\u001b[0;32m     18\u001b[0m     \u001b[0mislem\u001b[0m \u001b[1;33m=\u001b[0m \u001b[0minput\u001b[0m\u001b[1;33m(\u001b[0m\u001b[1;34m\"yapmak istediğiniz işlemi seçiniz +-/* : \"\u001b[0m\u001b[1;33m)\u001b[0m\u001b[1;33m\u001b[0m\u001b[1;33m\u001b[0m\u001b[0m\n\u001b[0;32m     19\u001b[0m \u001b[1;33m\u001b[0m\u001b[0m\n",
      "\u001b[1;31mValueError\u001b[0m: invalid literal for int() with base 10: 'KK'"
     ]
    }
   ],
   "source": [
    "def hesapla(x,y,islem):\n",
    "    if islem not in \"+/*\":\n",
    "        return (\"Lütfen şu işlemlerden birini seçiniz: +-/* \")\n",
    "    \n",
    "    if islem == \"+\":\n",
    "        return (str(x)+ \" + \"+str(y)+ \" = \"+ str(x+y))\n",
    "    if islem == \"-\":\n",
    "        return (str(x)+ \" - \"+str(y)+ \" = \"+ str(x-y))\n",
    "    if islem == \"/\":\n",
    "        return (str(x)+ \" / \"+str(y)+ \" = \"+ str(x/y))\n",
    "    if islem == \"*\":\n",
    "        return (str(x)+ \" * \"+str(y)+ \" = \"+ str(x*y))\n",
    "\n",
    "    \n",
    "while True: \n",
    "    x = int(input(\"ilk sayıyı giriniz: \"))\n",
    "    y = int(input(\"iknici sayıyı giriniz: \"))\n",
    "    islem = input(\"yapmak istediğiniz işlemi seçiniz +-/* : \")\n",
    "\n",
    "    print(hesapla(x,y,islem))\n"
   ]
  },
  {
   "cell_type": "code",
   "execution_count": null,
   "metadata": {},
   "outputs": [
    {
     "name": "stdout",
     "output_type": "stream",
     "text": [
      "ilk sayıyı giriniz: KK\n",
      "lÜTFEN RAKAMLARI DOĞRU GİRİNİZ.\n",
      "ilk sayıyı giriniz: 45\n",
      "iknici sayıyı giriniz: FF\n",
      "lÜTFEN RAKAMLARI DOĞRU GİRİNİZ.\n",
      "ilk sayıyı giriniz: 45\n",
      "iknici sayıyı giriniz: 45\n",
      "yapmak istediğiniz işlemi seçiniz +-/* : /\n",
      "45 / 45 = 1.0\n"
     ]
    }
   ],
   "source": [
    ",ad,yas,cinsiyet,meslek"
   ]
  },
  {
   "cell_type": "code",
   "execution_count": null,
   "metadata": {},
   "outputs": [],
   "source": []
  }
 ],
 "metadata": {
  "kernelspec": {
   "display_name": "Python 3",
   "language": "python",
   "name": "python3"
  },
  "language_info": {
   "codemirror_mode": {
    "name": "ipython",
    "version": 3
   },
   "file_extension": ".py",
   "mimetype": "text/x-python",
   "name": "python",
   "nbconvert_exporter": "python",
   "pygments_lexer": "ipython3",
   "version": "3.7.6"
  }
 },
 "nbformat": 4,
 "nbformat_minor": 4
}
