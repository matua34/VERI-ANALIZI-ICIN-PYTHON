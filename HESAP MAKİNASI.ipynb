{
 "cells": [
  {
   "cell_type": "code",
   "execution_count": null,
   "metadata": {},
   "outputs": [
    {
     "name": "stdout",
     "output_type": "stream",
     "text": [
      "ilk sayıyı giriniz: 45\n",
      "ikinci sayıyı giriniz: 78\n",
      "yapmak istediğiniz işlemi seçiniz +-/* : -\n",
      "45 - 78 = -33\n",
      "ilk sayıyı giriniz: 78\n",
      "ikinci sayıyı giriniz: 88\n",
      "yapmak istediğiniz işlemi seçiniz +-/* : /\n",
      "78 / 88 = 0.8863636363636364\n",
      "ilk sayıyı giriniz: 78\n",
      "ikinci sayıyı giriniz: 99\n",
      "yapmak istediğiniz işlemi seçiniz +-/* : ff\n",
      "LÜTFEN İŞLEMİ DOGRU SEÇİNİZ.\n",
      "yapmak istediğiniz işlemi seçiniz +-/* : /\n",
      "78 / 99 = 0.7878787878787878\n"
     ]
    }
   ],
   "source": [
    "def hesapla(x,y,islem):\n",
    "    \n",
    "    \n",
    "    if islem == \"+\":\n",
    "        return (str(x)+ \" + \"+str(y)+ \" = \"+ str(x+y))\n",
    "    if islem == \"-\":\n",
    "        return (str(x)+ \" - \"+str(y)+ \" = \"+ str(x-y))\n",
    "    if islem == \"/\":\n",
    "        return (str(x)+ \" / \"+str(y)+ \" = \"+ str(x/y))\n",
    "    if islem == \"*\":\n",
    "        return (str(x)+ \" * \"+str(y)+ \" = \"+ str(x*y))\n",
    "\n",
    "    \n",
    "while True: \n",
    "    while True:\n",
    "        try:\n",
    "            x = int(input(\"ilk sayıyı giriniz: \"))\n",
    "            break\n",
    "        except:\n",
    "            print(\"lÜTFEN BİRİNCİ SAYIYI DOĞRU GİRİNİZ.\")\n",
    "            continue\n",
    "            \n",
    "    while True:\n",
    "        try:\n",
    "            y = int(input(\"ikinci sayıyı giriniz: \"))\n",
    "            break\n",
    "        except:\n",
    "            print(\"lÜTFEN İKİNCİ SAYIYI DOĞRU GİRİNİZ.\")\n",
    "            continue\n",
    "       \n",
    "    \n",
    "    while True:\n",
    "        \n",
    "        islem = input(\"yapmak istediğiniz işlemi seçiniz +-/* : \")\n",
    "        if islem not in \"+-/*\":\n",
    "            print(\"LÜTFEN İŞLEMİ DOGRU SEÇİNİZ.\")\n",
    "        else:\n",
    "            break\n",
    "\n",
    "    print(hesapla(x,y,islem))\n"
   ]
  },
  {
   "cell_type": "code",
   "execution_count": null,
   "metadata": {},
   "outputs": [],
   "source": []
  },
  {
   "cell_type": "code",
   "execution_count": null,
   "metadata": {},
   "outputs": [],
   "source": []
  }
 ],
 "metadata": {
  "kernelspec": {
   "display_name": "Python 3",
   "language": "python",
   "name": "python3"
  },
  "language_info": {
   "codemirror_mode": {
    "name": "ipython",
    "version": 3
   },
   "file_extension": ".py",
   "mimetype": "text/x-python",
   "name": "python",
   "nbconvert_exporter": "python",
   "pygments_lexer": "ipython3",
   "version": "3.7.6"
  }
 },
 "nbformat": 4,
 "nbformat_minor": 4
}
