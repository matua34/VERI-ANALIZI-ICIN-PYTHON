{
 "cells": [
  {
   "cell_type": "markdown",
   "metadata": {},
   "source": [
    "#İNSTANCE VE ATRİBUTE ler ve "
   ]
  },
  {
   "cell_type": "markdown",
   "metadata": {},
   "source": [
    "# Sınıf içindeki fonksiyonlara METHOT DENİR."
   ]
  },
  {
   "cell_type": "code",
   "execution_count": 3,
   "metadata": {},
   "outputs": [],
   "source": [
    "class Superkahraman():\n",
    "    def __init__(self):   #inislaser dan gelir başlatma fonksiyonu anlamında\n",
    "        print(\"init çalıştı. sınıf oluştu.\") #her bir nesne oluştugunda init çalışır.\n",
    "        "
   ]
  },
  {
   "cell_type": "code",
   "execution_count": 4,
   "metadata": {},
   "outputs": [
    {
     "name": "stdout",
     "output_type": "stream",
     "text": [
      "init çalıştı. sınıf oluştu.\n"
     ]
    }
   ],
   "source": [
    "ali =Superkahraman()"
   ]
  },
  {
   "cell_type": "code",
   "execution_count": 5,
   "metadata": {},
   "outputs": [
    {
     "name": "stdout",
     "output_type": "stream",
     "text": [
      "init çalıştı. sınıf oluştu.\n"
     ]
    }
   ],
   "source": [
    "metin = Superkahraman()"
   ]
  },
  {
   "cell_type": "markdown",
   "metadata": {},
   "source": [
    "#Şimdi metin ve ali isimli ik adet superkahraman sınııfnda nesne ürettik. Bu nesnelerin özelliklerinin olmasını \n",
    "isteyebiliriz. atribute denir. "
   ]
  },
  {
   "cell_type": "code",
   "execution_count": 18,
   "metadata": {},
   "outputs": [],
   "source": [
    "class Superkahraman():\n",
    "    \n",
    "    ozelGuc = \"DAYANKILI\"\n",
    "    def __init__(self, isim, yas, meslek):   \n",
    "        print(\"init çalıştı. sınıf oluştu.\")\n",
    "        self.isim = isim\n",
    "        self.yas=yas\n",
    "        self.meslek = meslek\n",
    "        "
   ]
  },
  {
   "cell_type": "code",
   "execution_count": 19,
   "metadata": {},
   "outputs": [
    {
     "name": "stdout",
     "output_type": "stream",
     "text": [
      "init çalıştı. sınıf oluştu.\n"
     ]
    }
   ],
   "source": [
    "cenk = Superkahraman(\"cenk\",32,\"Gazeteci\")"
   ]
  },
  {
   "cell_type": "code",
   "execution_count": 20,
   "metadata": {},
   "outputs": [],
   "source": [
    "cenk.meslek = \"yazar\""
   ]
  },
  {
   "cell_type": "code",
   "execution_count": 21,
   "metadata": {},
   "outputs": [
    {
     "data": {
      "text/plain": [
       "'yazar'"
      ]
     },
     "execution_count": 21,
     "metadata": {},
     "output_type": "execute_result"
    }
   ],
   "source": [
    "cenk.meslek"
   ]
  },
  {
   "cell_type": "code",
   "execution_count": 22,
   "metadata": {},
   "outputs": [
    {
     "data": {
      "text/plain": [
       "32"
      ]
     },
     "execution_count": 22,
     "metadata": {},
     "output_type": "execute_result"
    }
   ],
   "source": [
    "cenk.yas"
   ]
  },
  {
   "cell_type": "code",
   "execution_count": 23,
   "metadata": {},
   "outputs": [
    {
     "data": {
      "text/plain": [
       "'DAYANKILI'"
      ]
     },
     "execution_count": 23,
     "metadata": {},
     "output_type": "execute_result"
    }
   ],
   "source": [
    "cenk.ozelGuc"
   ]
  },
  {
   "cell_type": "code",
   "execution_count": 26,
   "metadata": {},
   "outputs": [],
   "source": [
    "cenk.ozelGuc = \"UÇAN ADAM\""
   ]
  },
  {
   "cell_type": "code",
   "execution_count": 27,
   "metadata": {},
   "outputs": [
    {
     "data": {
      "text/plain": [
       "'UÇAN ADAM'"
      ]
     },
     "execution_count": 27,
     "metadata": {},
     "output_type": "execute_result"
    }
   ],
   "source": [
    "cenk.ozelGuc"
   ]
  },
  {
   "cell_type": "code",
   "execution_count": 35,
   "metadata": {},
   "outputs": [],
   "source": [
    "class Superkahraman():\n",
    "    \n",
    "    ozelGuc = \"DAYANKILI\"\n",
    "    def __init__(self, isim, yas, meslek):   \n",
    "        print(\"init çalıştı. sınıf oluştu.\")\n",
    "        self.isim = isim\n",
    "        self.yas=yas\n",
    "        self.meslek = meslek\n",
    "    def ornekguc(self):\n",
    "        print(\"Ben dürüst bir kahramanım.\")\n",
    "        "
   ]
  },
  {
   "cell_type": "code",
   "execution_count": 36,
   "metadata": {},
   "outputs": [
    {
     "name": "stdout",
     "output_type": "stream",
     "text": [
      "init çalıştı. sınıf oluştu.\n"
     ]
    }
   ],
   "source": [
    "ali = Superkahraman(\"Ali\",44,\"TEKSTİL\")"
   ]
  },
  {
   "cell_type": "code",
   "execution_count": 37,
   "metadata": {},
   "outputs": [
    {
     "name": "stdout",
     "output_type": "stream",
     "text": [
      "Ben dürüst bir kahramanım.\n"
     ]
    }
   ],
   "source": [
    "ali.ornekguc()"
   ]
  },
  {
   "cell_type": "code",
   "execution_count": null,
   "metadata": {},
   "outputs": [],
   "source": []
  }
 ],
 "metadata": {
  "kernelspec": {
   "display_name": "Python 3",
   "language": "python",
   "name": "python3"
  },
  "language_info": {
   "codemirror_mode": {
    "name": "ipython",
    "version": 3
   },
   "file_extension": ".py",
   "mimetype": "text/x-python",
   "name": "python",
   "nbconvert_exporter": "python",
   "pygments_lexer": "ipython3",
   "version": "3.7.6"
  }
 },
 "nbformat": 4,
 "nbformat_minor": 4
}
