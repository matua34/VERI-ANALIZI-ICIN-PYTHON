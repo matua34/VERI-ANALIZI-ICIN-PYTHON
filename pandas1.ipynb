{
 "cells": [
  {
   "cell_type": "code",
   "execution_count": 11,
   "metadata": {},
   "outputs": [],
   "source": [
    "import pandas as pd\n",
    "import numpy as np"
   ]
  },
  {
   "cell_type": "code",
   "execution_count": 12,
   "metadata": {},
   "outputs": [
    {
     "data": {
      "text/plain": [
       "array([[-1.60795032, -1.477853  ,  0.98270676, -0.07798212],\n",
       "       [-0.9529377 ,  2.37293587,  0.3632271 ,  0.26044637],\n",
       "       [ 0.76508373, -0.89840477,  0.67267097,  0.43135919],\n",
       "       [-0.48364559, -1.29692546, -0.05948377,  1.97254783]])"
      ]
     },
     "execution_count": 12,
     "metadata": {},
     "output_type": "execute_result"
    }
   ],
   "source": [
    "data = np.random.randn(4,4)\n",
    "data"
   ]
  },
  {
   "cell_type": "code",
   "execution_count": 13,
   "metadata": {},
   "outputs": [
    {
     "data": {
      "text/html": [
       "<div>\n",
       "<style scoped>\n",
       "    .dataframe tbody tr th:only-of-type {\n",
       "        vertical-align: middle;\n",
       "    }\n",
       "\n",
       "    .dataframe tbody tr th {\n",
       "        vertical-align: top;\n",
       "    }\n",
       "\n",
       "    .dataframe thead th {\n",
       "        text-align: right;\n",
       "    }\n",
       "</style>\n",
       "<table border=\"1\" class=\"dataframe\">\n",
       "  <thead>\n",
       "    <tr style=\"text-align: right;\">\n",
       "      <th></th>\n",
       "      <th>0</th>\n",
       "      <th>1</th>\n",
       "      <th>2</th>\n",
       "      <th>3</th>\n",
       "    </tr>\n",
       "  </thead>\n",
       "  <tbody>\n",
       "    <tr>\n",
       "      <th>0</th>\n",
       "      <td>-1.607950</td>\n",
       "      <td>-1.477853</td>\n",
       "      <td>0.982707</td>\n",
       "      <td>-0.077982</td>\n",
       "    </tr>\n",
       "    <tr>\n",
       "      <th>1</th>\n",
       "      <td>-0.952938</td>\n",
       "      <td>2.372936</td>\n",
       "      <td>0.363227</td>\n",
       "      <td>0.260446</td>\n",
       "    </tr>\n",
       "    <tr>\n",
       "      <th>2</th>\n",
       "      <td>0.765084</td>\n",
       "      <td>-0.898405</td>\n",
       "      <td>0.672671</td>\n",
       "      <td>0.431359</td>\n",
       "    </tr>\n",
       "    <tr>\n",
       "      <th>3</th>\n",
       "      <td>-0.483646</td>\n",
       "      <td>-1.296925</td>\n",
       "      <td>-0.059484</td>\n",
       "      <td>1.972548</td>\n",
       "    </tr>\n",
       "  </tbody>\n",
       "</table>\n",
       "</div>"
      ],
      "text/plain": [
       "          0         1         2         3\n",
       "0 -1.607950 -1.477853  0.982707 -0.077982\n",
       "1 -0.952938  2.372936  0.363227  0.260446\n",
       "2  0.765084 -0.898405  0.672671  0.431359\n",
       "3 -0.483646 -1.296925 -0.059484  1.972548"
      ]
     },
     "execution_count": 13,
     "metadata": {},
     "output_type": "execute_result"
    }
   ],
   "source": [
    "dataFrame = pd.DataFrame(data)\n",
    "dataFrame"
   ]
  },
  {
   "cell_type": "code",
   "execution_count": 14,
   "metadata": {},
   "outputs": [
    {
     "data": {
      "text/plain": [
       "pandas.core.frame.DataFrame"
      ]
     },
     "execution_count": 14,
     "metadata": {},
     "output_type": "execute_result"
    }
   ],
   "source": [
    "type(dataFrame)"
   ]
  },
  {
   "cell_type": "code",
   "execution_count": 15,
   "metadata": {},
   "outputs": [],
   "source": [
    "yenidtfr = pd.DataFrame(data,index=[\"a\",\"b\",\"c\",\"d\"],columns=[\"MAAS\",\"ÜCRET\",\"ÖDENEK\",\"EDERİ\"])#datafrme yazdık."
   ]
  },
  {
   "cell_type": "code",
   "execution_count": 16,
   "metadata": {},
   "outputs": [
    {
     "data": {
      "text/html": [
       "<div>\n",
       "<style scoped>\n",
       "    .dataframe tbody tr th:only-of-type {\n",
       "        vertical-align: middle;\n",
       "    }\n",
       "\n",
       "    .dataframe tbody tr th {\n",
       "        vertical-align: top;\n",
       "    }\n",
       "\n",
       "    .dataframe thead th {\n",
       "        text-align: right;\n",
       "    }\n",
       "</style>\n",
       "<table border=\"1\" class=\"dataframe\">\n",
       "  <thead>\n",
       "    <tr style=\"text-align: right;\">\n",
       "      <th></th>\n",
       "      <th>MAAS</th>\n",
       "      <th>ÜCRET</th>\n",
       "      <th>ÖDENEK</th>\n",
       "      <th>EDERİ</th>\n",
       "    </tr>\n",
       "  </thead>\n",
       "  <tbody>\n",
       "    <tr>\n",
       "      <th>a</th>\n",
       "      <td>-1.607950</td>\n",
       "      <td>-1.477853</td>\n",
       "      <td>0.982707</td>\n",
       "      <td>-0.077982</td>\n",
       "    </tr>\n",
       "    <tr>\n",
       "      <th>b</th>\n",
       "      <td>-0.952938</td>\n",
       "      <td>2.372936</td>\n",
       "      <td>0.363227</td>\n",
       "      <td>0.260446</td>\n",
       "    </tr>\n",
       "    <tr>\n",
       "      <th>c</th>\n",
       "      <td>0.765084</td>\n",
       "      <td>-0.898405</td>\n",
       "      <td>0.672671</td>\n",
       "      <td>0.431359</td>\n",
       "    </tr>\n",
       "    <tr>\n",
       "      <th>d</th>\n",
       "      <td>-0.483646</td>\n",
       "      <td>-1.296925</td>\n",
       "      <td>-0.059484</td>\n",
       "      <td>1.972548</td>\n",
       "    </tr>\n",
       "  </tbody>\n",
       "</table>\n",
       "</div>"
      ],
      "text/plain": [
       "       MAAS     ÜCRET    ÖDENEK     EDERİ\n",
       "a -1.607950 -1.477853  0.982707 -0.077982\n",
       "b -0.952938  2.372936  0.363227  0.260446\n",
       "c  0.765084 -0.898405  0.672671  0.431359\n",
       "d -0.483646 -1.296925 -0.059484  1.972548"
      ]
     },
     "execution_count": 16,
     "metadata": {},
     "output_type": "execute_result"
    }
   ],
   "source": [
    "yenidtfr"
   ]
  },
  {
   "cell_type": "code",
   "execution_count": 17,
   "metadata": {},
   "outputs": [
    {
     "data": {
      "text/plain": [
       "a   -1.607950\n",
       "b   -0.952938\n",
       "c    0.765084\n",
       "d   -0.483646\n",
       "Name: MAAS, dtype: float64"
      ]
     },
     "execution_count": 17,
     "metadata": {},
     "output_type": "execute_result"
    }
   ],
   "source": [
    "yenidtfr[\"MAAS\"]"
   ]
  },
  {
   "cell_type": "code",
   "execution_count": 18,
   "metadata": {},
   "outputs": [
    {
     "data": {
      "text/html": [
       "<div>\n",
       "<style scoped>\n",
       "    .dataframe tbody tr th:only-of-type {\n",
       "        vertical-align: middle;\n",
       "    }\n",
       "\n",
       "    .dataframe tbody tr th {\n",
       "        vertical-align: top;\n",
       "    }\n",
       "\n",
       "    .dataframe thead th {\n",
       "        text-align: right;\n",
       "    }\n",
       "</style>\n",
       "<table border=\"1\" class=\"dataframe\">\n",
       "  <thead>\n",
       "    <tr style=\"text-align: right;\">\n",
       "      <th></th>\n",
       "      <th>ÖDENEK</th>\n",
       "      <th>EDERİ</th>\n",
       "    </tr>\n",
       "  </thead>\n",
       "  <tbody>\n",
       "    <tr>\n",
       "      <th>a</th>\n",
       "      <td>0.982707</td>\n",
       "      <td>-0.077982</td>\n",
       "    </tr>\n",
       "    <tr>\n",
       "      <th>b</th>\n",
       "      <td>0.363227</td>\n",
       "      <td>0.260446</td>\n",
       "    </tr>\n",
       "    <tr>\n",
       "      <th>c</th>\n",
       "      <td>0.672671</td>\n",
       "      <td>0.431359</td>\n",
       "    </tr>\n",
       "    <tr>\n",
       "      <th>d</th>\n",
       "      <td>-0.059484</td>\n",
       "      <td>1.972548</td>\n",
       "    </tr>\n",
       "  </tbody>\n",
       "</table>\n",
       "</div>"
      ],
      "text/plain": [
       "     ÖDENEK     EDERİ\n",
       "a  0.982707 -0.077982\n",
       "b  0.363227  0.260446\n",
       "c  0.672671  0.431359\n",
       "d -0.059484  1.972548"
      ]
     },
     "execution_count": 18,
     "metadata": {},
     "output_type": "execute_result"
    }
   ],
   "source": [
    "yenidtfr[[\"ÖDENEK\",\"EDERİ\"]]"
   ]
  },
  {
   "cell_type": "code",
   "execution_count": 19,
   "metadata": {},
   "outputs": [
    {
     "data": {
      "text/plain": [
       "MAAS      0.765084\n",
       "ÜCRET    -0.898405\n",
       "ÖDENEK    0.672671\n",
       "EDERİ     0.431359\n",
       "Name: c, dtype: float64"
      ]
     },
     "execution_count": 19,
     "metadata": {},
     "output_type": "execute_result"
    }
   ],
   "source": [
    "yenidtfr.loc[\"c\"]  #row ları getirmek istersek."
   ]
  },
  {
   "cell_type": "code",
   "execution_count": 20,
   "metadata": {},
   "outputs": [
    {
     "data": {
      "text/plain": [
       "MAAS     -0.952938\n",
       "ÜCRET     2.372936\n",
       "ÖDENEK    0.363227\n",
       "EDERİ     0.260446\n",
       "Name: b, dtype: float64"
      ]
     },
     "execution_count": 20,
     "metadata": {},
     "output_type": "execute_result"
    }
   ],
   "source": [
    "yenidtfr.iloc[1] #İNDEX BAZLI ROW GETİRME... "
   ]
  },
  {
   "cell_type": "code",
   "execution_count": 21,
   "metadata": {},
   "outputs": [
    {
     "data": {
      "text/html": [
       "<div>\n",
       "<style scoped>\n",
       "    .dataframe tbody tr th:only-of-type {\n",
       "        vertical-align: middle;\n",
       "    }\n",
       "\n",
       "    .dataframe tbody tr th {\n",
       "        vertical-align: top;\n",
       "    }\n",
       "\n",
       "    .dataframe thead th {\n",
       "        text-align: right;\n",
       "    }\n",
       "</style>\n",
       "<table border=\"1\" class=\"dataframe\">\n",
       "  <thead>\n",
       "    <tr style=\"text-align: right;\">\n",
       "      <th></th>\n",
       "      <th>MAAS</th>\n",
       "      <th>ÜCRET</th>\n",
       "      <th>ÖDENEK</th>\n",
       "      <th>EDERİ</th>\n",
       "    </tr>\n",
       "  </thead>\n",
       "  <tbody>\n",
       "    <tr>\n",
       "      <th>a</th>\n",
       "      <td>-1.607950</td>\n",
       "      <td>-1.477853</td>\n",
       "      <td>0.982707</td>\n",
       "      <td>-0.077982</td>\n",
       "    </tr>\n",
       "    <tr>\n",
       "      <th>b</th>\n",
       "      <td>-0.952938</td>\n",
       "      <td>2.372936</td>\n",
       "      <td>0.363227</td>\n",
       "      <td>0.260446</td>\n",
       "    </tr>\n",
       "    <tr>\n",
       "      <th>c</th>\n",
       "      <td>0.765084</td>\n",
       "      <td>-0.898405</td>\n",
       "      <td>0.672671</td>\n",
       "      <td>0.431359</td>\n",
       "    </tr>\n",
       "    <tr>\n",
       "      <th>d</th>\n",
       "      <td>-0.483646</td>\n",
       "      <td>-1.296925</td>\n",
       "      <td>-0.059484</td>\n",
       "      <td>1.972548</td>\n",
       "    </tr>\n",
       "  </tbody>\n",
       "</table>\n",
       "</div>"
      ],
      "text/plain": [
       "       MAAS     ÜCRET    ÖDENEK     EDERİ\n",
       "a -1.607950 -1.477853  0.982707 -0.077982\n",
       "b -0.952938  2.372936  0.363227  0.260446\n",
       "c  0.765084 -0.898405  0.672671  0.431359\n",
       "d -0.483646 -1.296925 -0.059484  1.972548"
      ]
     },
     "execution_count": 21,
     "metadata": {},
     "output_type": "execute_result"
    }
   ],
   "source": [
    "yenidtfr"
   ]
  },
  {
   "cell_type": "code",
   "execution_count": 22,
   "metadata": {},
   "outputs": [],
   "source": [
    "yenidtfr[\"ZAMAN\"]= yenidtfr[\"ÜCRET\"]+yenidtfr[\"EDERİ\"] #yeni kolon ekleme"
   ]
  },
  {
   "cell_type": "code",
   "execution_count": 23,
   "metadata": {},
   "outputs": [
    {
     "data": {
      "text/html": [
       "<div>\n",
       "<style scoped>\n",
       "    .dataframe tbody tr th:only-of-type {\n",
       "        vertical-align: middle;\n",
       "    }\n",
       "\n",
       "    .dataframe tbody tr th {\n",
       "        vertical-align: top;\n",
       "    }\n",
       "\n",
       "    .dataframe thead th {\n",
       "        text-align: right;\n",
       "    }\n",
       "</style>\n",
       "<table border=\"1\" class=\"dataframe\">\n",
       "  <thead>\n",
       "    <tr style=\"text-align: right;\">\n",
       "      <th></th>\n",
       "      <th>MAAS</th>\n",
       "      <th>ÜCRET</th>\n",
       "      <th>ÖDENEK</th>\n",
       "      <th>EDERİ</th>\n",
       "      <th>ZAMAN</th>\n",
       "    </tr>\n",
       "  </thead>\n",
       "  <tbody>\n",
       "    <tr>\n",
       "      <th>a</th>\n",
       "      <td>-1.607950</td>\n",
       "      <td>-1.477853</td>\n",
       "      <td>0.982707</td>\n",
       "      <td>-0.077982</td>\n",
       "      <td>-1.555835</td>\n",
       "    </tr>\n",
       "    <tr>\n",
       "      <th>b</th>\n",
       "      <td>-0.952938</td>\n",
       "      <td>2.372936</td>\n",
       "      <td>0.363227</td>\n",
       "      <td>0.260446</td>\n",
       "      <td>2.633382</td>\n",
       "    </tr>\n",
       "    <tr>\n",
       "      <th>c</th>\n",
       "      <td>0.765084</td>\n",
       "      <td>-0.898405</td>\n",
       "      <td>0.672671</td>\n",
       "      <td>0.431359</td>\n",
       "      <td>-0.467046</td>\n",
       "    </tr>\n",
       "    <tr>\n",
       "      <th>d</th>\n",
       "      <td>-0.483646</td>\n",
       "      <td>-1.296925</td>\n",
       "      <td>-0.059484</td>\n",
       "      <td>1.972548</td>\n",
       "      <td>0.675622</td>\n",
       "    </tr>\n",
       "  </tbody>\n",
       "</table>\n",
       "</div>"
      ],
      "text/plain": [
       "       MAAS     ÜCRET    ÖDENEK     EDERİ     ZAMAN\n",
       "a -1.607950 -1.477853  0.982707 -0.077982 -1.555835\n",
       "b -0.952938  2.372936  0.363227  0.260446  2.633382\n",
       "c  0.765084 -0.898405  0.672671  0.431359 -0.467046\n",
       "d -0.483646 -1.296925 -0.059484  1.972548  0.675622"
      ]
     },
     "execution_count": 23,
     "metadata": {},
     "output_type": "execute_result"
    }
   ],
   "source": [
    "yenidtfr"
   ]
  },
  {
   "cell_type": "code",
   "execution_count": 24,
   "metadata": {},
   "outputs": [
    {
     "data": {
      "text/html": [
       "<div>\n",
       "<style scoped>\n",
       "    .dataframe tbody tr th:only-of-type {\n",
       "        vertical-align: middle;\n",
       "    }\n",
       "\n",
       "    .dataframe tbody tr th {\n",
       "        vertical-align: top;\n",
       "    }\n",
       "\n",
       "    .dataframe thead th {\n",
       "        text-align: right;\n",
       "    }\n",
       "</style>\n",
       "<table border=\"1\" class=\"dataframe\">\n",
       "  <thead>\n",
       "    <tr style=\"text-align: right;\">\n",
       "      <th></th>\n",
       "      <th>MAAS</th>\n",
       "      <th>ÜCRET</th>\n",
       "      <th>ÖDENEK</th>\n",
       "      <th>ZAMAN</th>\n",
       "    </tr>\n",
       "  </thead>\n",
       "  <tbody>\n",
       "    <tr>\n",
       "      <th>a</th>\n",
       "      <td>-1.607950</td>\n",
       "      <td>-1.477853</td>\n",
       "      <td>0.982707</td>\n",
       "      <td>-1.555835</td>\n",
       "    </tr>\n",
       "    <tr>\n",
       "      <th>b</th>\n",
       "      <td>-0.952938</td>\n",
       "      <td>2.372936</td>\n",
       "      <td>0.363227</td>\n",
       "      <td>2.633382</td>\n",
       "    </tr>\n",
       "    <tr>\n",
       "      <th>c</th>\n",
       "      <td>0.765084</td>\n",
       "      <td>-0.898405</td>\n",
       "      <td>0.672671</td>\n",
       "      <td>-0.467046</td>\n",
       "    </tr>\n",
       "    <tr>\n",
       "      <th>d</th>\n",
       "      <td>-0.483646</td>\n",
       "      <td>-1.296925</td>\n",
       "      <td>-0.059484</td>\n",
       "      <td>0.675622</td>\n",
       "    </tr>\n",
       "  </tbody>\n",
       "</table>\n",
       "</div>"
      ],
      "text/plain": [
       "       MAAS     ÜCRET    ÖDENEK     ZAMAN\n",
       "a -1.607950 -1.477853  0.982707 -1.555835\n",
       "b -0.952938  2.372936  0.363227  2.633382\n",
       "c  0.765084 -0.898405  0.672671 -0.467046\n",
       "d -0.483646 -1.296925 -0.059484  0.675622"
      ]
     },
     "execution_count": 24,
     "metadata": {},
     "output_type": "execute_result"
    }
   ],
   "source": [
    "yenidtfr.drop(\"EDERİ\", axis = 1)"
   ]
  },
  {
   "cell_type": "code",
   "execution_count": 25,
   "metadata": {},
   "outputs": [
    {
     "data": {
      "text/html": [
       "<div>\n",
       "<style scoped>\n",
       "    .dataframe tbody tr th:only-of-type {\n",
       "        vertical-align: middle;\n",
       "    }\n",
       "\n",
       "    .dataframe tbody tr th {\n",
       "        vertical-align: top;\n",
       "    }\n",
       "\n",
       "    .dataframe thead th {\n",
       "        text-align: right;\n",
       "    }\n",
       "</style>\n",
       "<table border=\"1\" class=\"dataframe\">\n",
       "  <thead>\n",
       "    <tr style=\"text-align: right;\">\n",
       "      <th></th>\n",
       "      <th>MAAS</th>\n",
       "      <th>ÜCRET</th>\n",
       "      <th>ÖDENEK</th>\n",
       "      <th>EDERİ</th>\n",
       "      <th>ZAMAN</th>\n",
       "    </tr>\n",
       "  </thead>\n",
       "  <tbody>\n",
       "    <tr>\n",
       "      <th>a</th>\n",
       "      <td>-1.607950</td>\n",
       "      <td>-1.477853</td>\n",
       "      <td>0.982707</td>\n",
       "      <td>-0.077982</td>\n",
       "      <td>-1.555835</td>\n",
       "    </tr>\n",
       "    <tr>\n",
       "      <th>b</th>\n",
       "      <td>-0.952938</td>\n",
       "      <td>2.372936</td>\n",
       "      <td>0.363227</td>\n",
       "      <td>0.260446</td>\n",
       "      <td>2.633382</td>\n",
       "    </tr>\n",
       "    <tr>\n",
       "      <th>c</th>\n",
       "      <td>0.765084</td>\n",
       "      <td>-0.898405</td>\n",
       "      <td>0.672671</td>\n",
       "      <td>0.431359</td>\n",
       "      <td>-0.467046</td>\n",
       "    </tr>\n",
       "    <tr>\n",
       "      <th>d</th>\n",
       "      <td>-0.483646</td>\n",
       "      <td>-1.296925</td>\n",
       "      <td>-0.059484</td>\n",
       "      <td>1.972548</td>\n",
       "      <td>0.675622</td>\n",
       "    </tr>\n",
       "  </tbody>\n",
       "</table>\n",
       "</div>"
      ],
      "text/plain": [
       "       MAAS     ÜCRET    ÖDENEK     EDERİ     ZAMAN\n",
       "a -1.607950 -1.477853  0.982707 -0.077982 -1.555835\n",
       "b -0.952938  2.372936  0.363227  0.260446  2.633382\n",
       "c  0.765084 -0.898405  0.672671  0.431359 -0.467046\n",
       "d -0.483646 -1.296925 -0.059484  1.972548  0.675622"
      ]
     },
     "execution_count": 25,
     "metadata": {},
     "output_type": "execute_result"
    }
   ],
   "source": [
    "yenidtfr"
   ]
  },
  {
   "cell_type": "code",
   "execution_count": 26,
   "metadata": {},
   "outputs": [
    {
     "data": {
      "text/html": [
       "<div>\n",
       "<style scoped>\n",
       "    .dataframe tbody tr th:only-of-type {\n",
       "        vertical-align: middle;\n",
       "    }\n",
       "\n",
       "    .dataframe tbody tr th {\n",
       "        vertical-align: top;\n",
       "    }\n",
       "\n",
       "    .dataframe thead th {\n",
       "        text-align: right;\n",
       "    }\n",
       "</style>\n",
       "<table border=\"1\" class=\"dataframe\">\n",
       "  <thead>\n",
       "    <tr style=\"text-align: right;\">\n",
       "      <th></th>\n",
       "      <th>MAAS</th>\n",
       "      <th>ÜCRET</th>\n",
       "      <th>ÖDENEK</th>\n",
       "      <th>EDERİ</th>\n",
       "      <th>ZAMAN</th>\n",
       "    </tr>\n",
       "  </thead>\n",
       "  <tbody>\n",
       "    <tr>\n",
       "      <th>a</th>\n",
       "      <td>-1.607950</td>\n",
       "      <td>-1.477853</td>\n",
       "      <td>0.982707</td>\n",
       "      <td>-0.077982</td>\n",
       "      <td>-1.555835</td>\n",
       "    </tr>\n",
       "    <tr>\n",
       "      <th>b</th>\n",
       "      <td>-0.952938</td>\n",
       "      <td>2.372936</td>\n",
       "      <td>0.363227</td>\n",
       "      <td>0.260446</td>\n",
       "      <td>2.633382</td>\n",
       "    </tr>\n",
       "    <tr>\n",
       "      <th>c</th>\n",
       "      <td>0.765084</td>\n",
       "      <td>-0.898405</td>\n",
       "      <td>0.672671</td>\n",
       "      <td>0.431359</td>\n",
       "      <td>-0.467046</td>\n",
       "    </tr>\n",
       "  </tbody>\n",
       "</table>\n",
       "</div>"
      ],
      "text/plain": [
       "       MAAS     ÜCRET    ÖDENEK     EDERİ     ZAMAN\n",
       "a -1.607950 -1.477853  0.982707 -0.077982 -1.555835\n",
       "b -0.952938  2.372936  0.363227  0.260446  2.633382\n",
       "c  0.765084 -0.898405  0.672671  0.431359 -0.467046"
      ]
     },
     "execution_count": 26,
     "metadata": {},
     "output_type": "execute_result"
    }
   ],
   "source": [
    "yenidtfr.drop(\"d\", axis = 0) #satır row silme"
   ]
  },
  {
   "cell_type": "code",
   "execution_count": 27,
   "metadata": {},
   "outputs": [
    {
     "data": {
      "text/html": [
       "<div>\n",
       "<style scoped>\n",
       "    .dataframe tbody tr th:only-of-type {\n",
       "        vertical-align: middle;\n",
       "    }\n",
       "\n",
       "    .dataframe tbody tr th {\n",
       "        vertical-align: top;\n",
       "    }\n",
       "\n",
       "    .dataframe thead th {\n",
       "        text-align: right;\n",
       "    }\n",
       "</style>\n",
       "<table border=\"1\" class=\"dataframe\">\n",
       "  <thead>\n",
       "    <tr style=\"text-align: right;\">\n",
       "      <th></th>\n",
       "      <th>MAAS</th>\n",
       "      <th>ÜCRET</th>\n",
       "      <th>ÖDENEK</th>\n",
       "      <th>EDERİ</th>\n",
       "      <th>ZAMAN</th>\n",
       "    </tr>\n",
       "  </thead>\n",
       "  <tbody>\n",
       "    <tr>\n",
       "      <th>a</th>\n",
       "      <td>-1.607950</td>\n",
       "      <td>-1.477853</td>\n",
       "      <td>0.982707</td>\n",
       "      <td>-0.077982</td>\n",
       "      <td>-1.555835</td>\n",
       "    </tr>\n",
       "    <tr>\n",
       "      <th>c</th>\n",
       "      <td>0.765084</td>\n",
       "      <td>-0.898405</td>\n",
       "      <td>0.672671</td>\n",
       "      <td>0.431359</td>\n",
       "      <td>-0.467046</td>\n",
       "    </tr>\n",
       "    <tr>\n",
       "      <th>d</th>\n",
       "      <td>-0.483646</td>\n",
       "      <td>-1.296925</td>\n",
       "      <td>-0.059484</td>\n",
       "      <td>1.972548</td>\n",
       "      <td>0.675622</td>\n",
       "    </tr>\n",
       "  </tbody>\n",
       "</table>\n",
       "</div>"
      ],
      "text/plain": [
       "       MAAS     ÜCRET    ÖDENEK     EDERİ     ZAMAN\n",
       "a -1.607950 -1.477853  0.982707 -0.077982 -1.555835\n",
       "c  0.765084 -0.898405  0.672671  0.431359 -0.467046\n",
       "d -0.483646 -1.296925 -0.059484  1.972548  0.675622"
      ]
     },
     "execution_count": 27,
     "metadata": {},
     "output_type": "execute_result"
    }
   ],
   "source": [
    "yenidtfr.drop(\"b\") #satır, row silem"
   ]
  },
  {
   "cell_type": "code",
   "execution_count": 28,
   "metadata": {},
   "outputs": [],
   "source": [
    "#datafrma üzerinde yaptıgımız işlemin kalıcı olması için bunu belirtmemiz lazım\n",
    "#İNPLACE DEGERİNİ tRUE YAORSAK YAPTGMZ İŞLEM KALICI OLUR."
   ]
  },
  {
   "cell_type": "code",
   "execution_count": 29,
   "metadata": {},
   "outputs": [],
   "source": [
    "yenidtfr.drop(\"EDERİ\", axis = 1,inplace = True)"
   ]
  },
  {
   "cell_type": "code",
   "execution_count": 30,
   "metadata": {},
   "outputs": [
    {
     "data": {
      "text/html": [
       "<div>\n",
       "<style scoped>\n",
       "    .dataframe tbody tr th:only-of-type {\n",
       "        vertical-align: middle;\n",
       "    }\n",
       "\n",
       "    .dataframe tbody tr th {\n",
       "        vertical-align: top;\n",
       "    }\n",
       "\n",
       "    .dataframe thead th {\n",
       "        text-align: right;\n",
       "    }\n",
       "</style>\n",
       "<table border=\"1\" class=\"dataframe\">\n",
       "  <thead>\n",
       "    <tr style=\"text-align: right;\">\n",
       "      <th></th>\n",
       "      <th>MAAS</th>\n",
       "      <th>ÜCRET</th>\n",
       "      <th>ÖDENEK</th>\n",
       "      <th>ZAMAN</th>\n",
       "    </tr>\n",
       "  </thead>\n",
       "  <tbody>\n",
       "    <tr>\n",
       "      <th>a</th>\n",
       "      <td>-1.607950</td>\n",
       "      <td>-1.477853</td>\n",
       "      <td>0.982707</td>\n",
       "      <td>-1.555835</td>\n",
       "    </tr>\n",
       "    <tr>\n",
       "      <th>b</th>\n",
       "      <td>-0.952938</td>\n",
       "      <td>2.372936</td>\n",
       "      <td>0.363227</td>\n",
       "      <td>2.633382</td>\n",
       "    </tr>\n",
       "    <tr>\n",
       "      <th>c</th>\n",
       "      <td>0.765084</td>\n",
       "      <td>-0.898405</td>\n",
       "      <td>0.672671</td>\n",
       "      <td>-0.467046</td>\n",
       "    </tr>\n",
       "    <tr>\n",
       "      <th>d</th>\n",
       "      <td>-0.483646</td>\n",
       "      <td>-1.296925</td>\n",
       "      <td>-0.059484</td>\n",
       "      <td>0.675622</td>\n",
       "    </tr>\n",
       "  </tbody>\n",
       "</table>\n",
       "</div>"
      ],
      "text/plain": [
       "       MAAS     ÜCRET    ÖDENEK     ZAMAN\n",
       "a -1.607950 -1.477853  0.982707 -1.555835\n",
       "b -0.952938  2.372936  0.363227  2.633382\n",
       "c  0.765084 -0.898405  0.672671 -0.467046\n",
       "d -0.483646 -1.296925 -0.059484  0.675622"
      ]
     },
     "execution_count": 30,
     "metadata": {},
     "output_type": "execute_result"
    }
   ],
   "source": [
    "yenidtfr #artık ederi silindi."
   ]
  },
  {
   "cell_type": "code",
   "execution_count": 31,
   "metadata": {},
   "outputs": [
    {
     "data": {
      "text/plain": [
       "0.765083726659813"
      ]
     },
     "execution_count": 31,
     "metadata": {},
     "output_type": "execute_result"
    }
   ],
   "source": [
    "yenidtfr.loc[\"c\"][\"MAAS\"] #SATIRDAN NOKTA BULMA 1.YONTEM"
   ]
  },
  {
   "cell_type": "code",
   "execution_count": 32,
   "metadata": {},
   "outputs": [
    {
     "data": {
      "text/plain": [
       "0.3632270978770129"
      ]
     },
     "execution_count": 32,
     "metadata": {},
     "output_type": "execute_result"
    }
   ],
   "source": [
    "yenidtfr.loc[\"b\",\"ÖDENEK\"] #SATIRDAN NOKTA BULMA 2.YÖNTEM"
   ]
  },
  {
   "cell_type": "code",
   "execution_count": 33,
   "metadata": {},
   "outputs": [
    {
     "data": {
      "text/html": [
       "<div>\n",
       "<style scoped>\n",
       "    .dataframe tbody tr th:only-of-type {\n",
       "        vertical-align: middle;\n",
       "    }\n",
       "\n",
       "    .dataframe tbody tr th {\n",
       "        vertical-align: top;\n",
       "    }\n",
       "\n",
       "    .dataframe thead th {\n",
       "        text-align: right;\n",
       "    }\n",
       "</style>\n",
       "<table border=\"1\" class=\"dataframe\">\n",
       "  <thead>\n",
       "    <tr style=\"text-align: right;\">\n",
       "      <th></th>\n",
       "      <th>MAAS</th>\n",
       "      <th>ÜCRET</th>\n",
       "      <th>ÖDENEK</th>\n",
       "      <th>ZAMAN</th>\n",
       "    </tr>\n",
       "  </thead>\n",
       "  <tbody>\n",
       "    <tr>\n",
       "      <th>a</th>\n",
       "      <td>-1.607950</td>\n",
       "      <td>-1.477853</td>\n",
       "      <td>0.982707</td>\n",
       "      <td>-1.555835</td>\n",
       "    </tr>\n",
       "    <tr>\n",
       "      <th>b</th>\n",
       "      <td>-0.952938</td>\n",
       "      <td>2.372936</td>\n",
       "      <td>0.363227</td>\n",
       "      <td>2.633382</td>\n",
       "    </tr>\n",
       "    <tr>\n",
       "      <th>c</th>\n",
       "      <td>0.765084</td>\n",
       "      <td>-0.898405</td>\n",
       "      <td>0.672671</td>\n",
       "      <td>-0.467046</td>\n",
       "    </tr>\n",
       "    <tr>\n",
       "      <th>d</th>\n",
       "      <td>-0.483646</td>\n",
       "      <td>-1.296925</td>\n",
       "      <td>-0.059484</td>\n",
       "      <td>0.675622</td>\n",
       "    </tr>\n",
       "  </tbody>\n",
       "</table>\n",
       "</div>"
      ],
      "text/plain": [
       "       MAAS     ÜCRET    ÖDENEK     ZAMAN\n",
       "a -1.607950 -1.477853  0.982707 -1.555835\n",
       "b -0.952938  2.372936  0.363227  2.633382\n",
       "c  0.765084 -0.898405  0.672671 -0.467046\n",
       "d -0.483646 -1.296925 -0.059484  0.675622"
      ]
     },
     "execution_count": 33,
     "metadata": {},
     "output_type": "execute_result"
    }
   ],
   "source": [
    "yenidtfr"
   ]
  },
  {
   "cell_type": "code",
   "execution_count": 34,
   "metadata": {},
   "outputs": [
    {
     "data": {
      "text/html": [
       "<div>\n",
       "<style scoped>\n",
       "    .dataframe tbody tr th:only-of-type {\n",
       "        vertical-align: middle;\n",
       "    }\n",
       "\n",
       "    .dataframe tbody tr th {\n",
       "        vertical-align: top;\n",
       "    }\n",
       "\n",
       "    .dataframe thead th {\n",
       "        text-align: right;\n",
       "    }\n",
       "</style>\n",
       "<table border=\"1\" class=\"dataframe\">\n",
       "  <thead>\n",
       "    <tr style=\"text-align: right;\">\n",
       "      <th></th>\n",
       "      <th>MAAS</th>\n",
       "      <th>ÜCRET</th>\n",
       "      <th>ÖDENEK</th>\n",
       "      <th>ZAMAN</th>\n",
       "    </tr>\n",
       "  </thead>\n",
       "  <tbody>\n",
       "    <tr>\n",
       "      <th>a</th>\n",
       "      <td>True</td>\n",
       "      <td>True</td>\n",
       "      <td>False</td>\n",
       "      <td>True</td>\n",
       "    </tr>\n",
       "    <tr>\n",
       "      <th>b</th>\n",
       "      <td>True</td>\n",
       "      <td>False</td>\n",
       "      <td>False</td>\n",
       "      <td>False</td>\n",
       "    </tr>\n",
       "    <tr>\n",
       "      <th>c</th>\n",
       "      <td>False</td>\n",
       "      <td>True</td>\n",
       "      <td>False</td>\n",
       "      <td>True</td>\n",
       "    </tr>\n",
       "    <tr>\n",
       "      <th>d</th>\n",
       "      <td>True</td>\n",
       "      <td>True</td>\n",
       "      <td>True</td>\n",
       "      <td>False</td>\n",
       "    </tr>\n",
       "  </tbody>\n",
       "</table>\n",
       "</div>"
      ],
      "text/plain": [
       "    MAAS  ÜCRET  ÖDENEK  ZAMAN\n",
       "a   True   True   False   True\n",
       "b   True  False   False  False\n",
       "c  False   True   False   True\n",
       "d   True   True    True  False"
      ]
     },
     "execution_count": 34,
     "metadata": {},
     "output_type": "execute_result"
    }
   ],
   "source": [
    "yenidtfr <0"
   ]
  },
  {
   "cell_type": "code",
   "execution_count": 35,
   "metadata": {},
   "outputs": [
    {
     "data": {
      "text/html": [
       "<div>\n",
       "<style scoped>\n",
       "    .dataframe tbody tr th:only-of-type {\n",
       "        vertical-align: middle;\n",
       "    }\n",
       "\n",
       "    .dataframe tbody tr th {\n",
       "        vertical-align: top;\n",
       "    }\n",
       "\n",
       "    .dataframe thead th {\n",
       "        text-align: right;\n",
       "    }\n",
       "</style>\n",
       "<table border=\"1\" class=\"dataframe\">\n",
       "  <thead>\n",
       "    <tr style=\"text-align: right;\">\n",
       "      <th></th>\n",
       "      <th>MAAS</th>\n",
       "      <th>ÜCRET</th>\n",
       "      <th>ÖDENEK</th>\n",
       "      <th>ZAMAN</th>\n",
       "    </tr>\n",
       "  </thead>\n",
       "  <tbody>\n",
       "    <tr>\n",
       "      <th>a</th>\n",
       "      <td>-1.607950</td>\n",
       "      <td>-1.477853</td>\n",
       "      <td>NaN</td>\n",
       "      <td>-1.555835</td>\n",
       "    </tr>\n",
       "    <tr>\n",
       "      <th>b</th>\n",
       "      <td>-0.952938</td>\n",
       "      <td>NaN</td>\n",
       "      <td>NaN</td>\n",
       "      <td>NaN</td>\n",
       "    </tr>\n",
       "    <tr>\n",
       "      <th>c</th>\n",
       "      <td>NaN</td>\n",
       "      <td>-0.898405</td>\n",
       "      <td>NaN</td>\n",
       "      <td>-0.467046</td>\n",
       "    </tr>\n",
       "    <tr>\n",
       "      <th>d</th>\n",
       "      <td>-0.483646</td>\n",
       "      <td>-1.296925</td>\n",
       "      <td>-0.059484</td>\n",
       "      <td>NaN</td>\n",
       "    </tr>\n",
       "  </tbody>\n",
       "</table>\n",
       "</div>"
      ],
      "text/plain": [
       "       MAAS     ÜCRET    ÖDENEK     ZAMAN\n",
       "a -1.607950 -1.477853       NaN -1.555835\n",
       "b -0.952938       NaN       NaN       NaN\n",
       "c       NaN -0.898405       NaN -0.467046\n",
       "d -0.483646 -1.296925 -0.059484       NaN"
      ]
     },
     "execution_count": 35,
     "metadata": {},
     "output_type": "execute_result"
    }
   ],
   "source": [
    "yenidtfr[yenidtfr <0] #df içinde sıfıdan küçük olanları gösterme"
   ]
  },
  {
   "cell_type": "code",
   "execution_count": 36,
   "metadata": {},
   "outputs": [
    {
     "data": {
      "text/plain": [
       "a    False\n",
       "b     True\n",
       "c    False\n",
       "d    False\n",
       "Name: ÜCRET, dtype: bool"
      ]
     },
     "execution_count": 36,
     "metadata": {},
     "output_type": "execute_result"
    }
   ],
   "source": [
    "yenidtfr[\"ÜCRET\"]>0"
   ]
  },
  {
   "cell_type": "code",
   "execution_count": 37,
   "metadata": {},
   "outputs": [
    {
     "data": {
      "text/html": [
       "<div>\n",
       "<style scoped>\n",
       "    .dataframe tbody tr th:only-of-type {\n",
       "        vertical-align: middle;\n",
       "    }\n",
       "\n",
       "    .dataframe tbody tr th {\n",
       "        vertical-align: top;\n",
       "    }\n",
       "\n",
       "    .dataframe thead th {\n",
       "        text-align: right;\n",
       "    }\n",
       "</style>\n",
       "<table border=\"1\" class=\"dataframe\">\n",
       "  <thead>\n",
       "    <tr style=\"text-align: right;\">\n",
       "      <th></th>\n",
       "      <th>MAAS</th>\n",
       "      <th>ÜCRET</th>\n",
       "      <th>ÖDENEK</th>\n",
       "      <th>ZAMAN</th>\n",
       "    </tr>\n",
       "  </thead>\n",
       "  <tbody>\n",
       "    <tr>\n",
       "      <th>b</th>\n",
       "      <td>-0.952938</td>\n",
       "      <td>2.372936</td>\n",
       "      <td>0.363227</td>\n",
       "      <td>2.633382</td>\n",
       "    </tr>\n",
       "  </tbody>\n",
       "</table>\n",
       "</div>"
      ],
      "text/plain": [
       "       MAAS     ÜCRET    ÖDENEK     ZAMAN\n",
       "b -0.952938  2.372936  0.363227  2.633382"
      ]
     },
     "execution_count": 37,
     "metadata": {},
     "output_type": "execute_result"
    }
   ],
   "source": [
    "yenidtfr[yenidtfr[\"ÜCRET\"]>0]"
   ]
  },
  {
   "cell_type": "code",
   "execution_count": 38,
   "metadata": {},
   "outputs": [
    {
     "data": {
      "text/html": [
       "<div>\n",
       "<style scoped>\n",
       "    .dataframe tbody tr th:only-of-type {\n",
       "        vertical-align: middle;\n",
       "    }\n",
       "\n",
       "    .dataframe tbody tr th {\n",
       "        vertical-align: top;\n",
       "    }\n",
       "\n",
       "    .dataframe thead th {\n",
       "        text-align: right;\n",
       "    }\n",
       "</style>\n",
       "<table border=\"1\" class=\"dataframe\">\n",
       "  <thead>\n",
       "    <tr style=\"text-align: right;\">\n",
       "      <th></th>\n",
       "      <th>MAAS</th>\n",
       "      <th>ÜCRET</th>\n",
       "      <th>ÖDENEK</th>\n",
       "      <th>ZAMAN</th>\n",
       "    </tr>\n",
       "  </thead>\n",
       "  <tbody>\n",
       "    <tr>\n",
       "      <th>c</th>\n",
       "      <td>0.765084</td>\n",
       "      <td>-0.898405</td>\n",
       "      <td>0.672671</td>\n",
       "      <td>-0.467046</td>\n",
       "    </tr>\n",
       "  </tbody>\n",
       "</table>\n",
       "</div>"
      ],
      "text/plain": [
       "       MAAS     ÜCRET    ÖDENEK     ZAMAN\n",
       "c  0.765084 -0.898405  0.672671 -0.467046"
      ]
     },
     "execution_count": 38,
     "metadata": {},
     "output_type": "execute_result"
    }
   ],
   "source": [
    "yenidtfr[yenidtfr[\"MAAS\"]>0]"
   ]
  },
  {
   "cell_type": "code",
   "execution_count": null,
   "metadata": {},
   "outputs": [],
   "source": []
  },
  {
   "cell_type": "code",
   "execution_count": null,
   "metadata": {},
   "outputs": [],
   "source": []
  }
 ],
 "metadata": {
  "kernelspec": {
   "display_name": "Python 3",
   "language": "python",
   "name": "python3"
  },
  "language_info": {
   "codemirror_mode": {
    "name": "ipython",
    "version": 3
   },
   "file_extension": ".py",
   "mimetype": "text/x-python",
   "name": "python",
   "nbconvert_exporter": "python",
   "pygments_lexer": "ipython3",
   "version": "3.7.6"
  }
 },
 "nbformat": 4,
 "nbformat_minor": 4
}
