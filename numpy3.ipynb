{
 "cells": [
  {
   "cell_type": "code",
   "execution_count": 1,
   "metadata": {},
   "outputs": [],
   "source": [
    "import numpy as np\n",
    "listem =[[10,20,30],[40,50,60],[70,80,90]]"
   ]
  },
  {
   "cell_type": "code",
   "execution_count": 2,
   "metadata": {},
   "outputs": [],
   "source": [
    "dizim = np.array(listem)"
   ]
  },
  {
   "cell_type": "code",
   "execution_count": 3,
   "metadata": {},
   "outputs": [
    {
     "data": {
      "text/plain": [
       "array([[10, 20, 30],\n",
       "       [40, 50, 60],\n",
       "       [70, 80, 90]])"
      ]
     },
     "execution_count": 3,
     "metadata": {},
     "output_type": "execute_result"
    }
   ],
   "source": [
    "dizim"
   ]
  },
  {
   "cell_type": "code",
   "execution_count": 4,
   "metadata": {},
   "outputs": [
    {
     "data": {
      "text/plain": [
       "array([10, 20, 30])"
      ]
     },
     "execution_count": 4,
     "metadata": {},
     "output_type": "execute_result"
    }
   ],
   "source": [
    "dizim[0]"
   ]
  },
  {
   "cell_type": "code",
   "execution_count": 5,
   "metadata": {},
   "outputs": [
    {
     "data": {
      "text/plain": [
       "90"
      ]
     },
     "execution_count": 5,
     "metadata": {},
     "output_type": "execute_result"
    }
   ],
   "source": [
    "dizim[2,2] #birinci satırikinci sütün indexi"
   ]
  },
  {
   "cell_type": "code",
   "execution_count": 6,
   "metadata": {},
   "outputs": [
    {
     "data": {
      "text/plain": [
       "array([[50]])"
      ]
     },
     "execution_count": 6,
     "metadata": {},
     "output_type": "execute_result"
    }
   ],
   "source": [
    "dizim[1:2,1:2]"
   ]
  },
  {
   "cell_type": "code",
   "execution_count": 7,
   "metadata": {},
   "outputs": [],
   "source": [
    "liste = np.arange(50,102,3)"
   ]
  },
  {
   "cell_type": "code",
   "execution_count": 8,
   "metadata": {},
   "outputs": [
    {
     "data": {
      "text/plain": [
       "18"
      ]
     },
     "execution_count": 8,
     "metadata": {},
     "output_type": "execute_result"
    }
   ],
   "source": [
    "len(liste)"
   ]
  },
  {
   "cell_type": "code",
   "execution_count": 9,
   "metadata": {},
   "outputs": [
    {
     "data": {
      "text/plain": [
       "array([[ 50,  53,  56],\n",
       "       [ 59,  62,  65],\n",
       "       [ 68,  71,  74],\n",
       "       [ 77,  80,  83],\n",
       "       [ 86,  89,  92],\n",
       "       [ 95,  98, 101]])"
      ]
     },
     "execution_count": 9,
     "metadata": {},
     "output_type": "execute_result"
    }
   ],
   "source": [
    "mtriks = liste.reshape(6,3)\n",
    "mtriks"
   ]
  },
  {
   "cell_type": "code",
   "execution_count": 10,
   "metadata": {},
   "outputs": [
    {
     "data": {
      "text/plain": [
       "83"
      ]
     },
     "execution_count": 10,
     "metadata": {},
     "output_type": "execute_result"
    }
   ],
   "source": [
    "mtriks[3,2]"
   ]
  },
  {
   "cell_type": "code",
   "execution_count": 11,
   "metadata": {},
   "outputs": [
    {
     "data": {
      "text/plain": [
       "array([65, 74])"
      ]
     },
     "execution_count": 11,
     "metadata": {},
     "output_type": "execute_result"
    }
   ],
   "source": [
    "mtriks[1:3,2]"
   ]
  },
  {
   "cell_type": "code",
   "execution_count": 12,
   "metadata": {},
   "outputs": [],
   "source": [
    "ebru = np.random.randint(50,500,200)"
   ]
  },
  {
   "cell_type": "code",
   "execution_count": 15,
   "metadata": {},
   "outputs": [
    {
     "data": {
      "text/plain": [
       "numpy.ndarray"
      ]
     },
     "execution_count": 15,
     "metadata": {},
     "output_type": "execute_result"
    }
   ],
   "source": [
    "len(ebru)\n",
    "ebru"
   ]
  },
  {
   "cell_type": "code",
   "execution_count": 16,
   "metadata": {},
   "outputs": [
    {
     "data": {
      "text/plain": [
       "array([[189, 208, 185,  68, 290, 305, 223, 365, 341, 249, 311,  70, 107,\n",
       "        386, 274, 108, 376, 400, 193, 185],\n",
       "       [275,  80, 201, 394, 200, 317, 308, 369, 284, 238, 266, 474,  61,\n",
       "        264, 412, 261, 157, 357, 195, 323],\n",
       "       [339, 105, 413, 104, 362,  91, 253, 451, 301, 242, 236,  85, 202,\n",
       "         90, 479, 424, 212, 224,  88, 260],\n",
       "       [452,  84,  85, 172, 241, 129, 463, 474, 258, 239, 315,  73, 365,\n",
       "        447, 106, 344, 491, 497, 208, 307],\n",
       "       [433, 188, 289, 439, 240, 252, 488, 414, 373, 151, 261, 204,  71,\n",
       "         74, 409, 355, 274, 490, 494, 341],\n",
       "       [432, 352, 299, 253,  64, 191, 112, 311, 191, 436, 114, 488, 260,\n",
       "        214, 277, 216,  78, 101, 496, 323],\n",
       "       [ 97, 496, 123,  54, 219, 313, 206, 324, 332, 140, 298, 477, 267,\n",
       "        150, 346, 305, 476, 216, 238, 128],\n",
       "       [ 82, 343, 140, 378, 209,  93, 484,  64, 408, 299, 316, 248, 328,\n",
       "         85,  98, 424, 209, 108, 114,  95],\n",
       "       [186, 251, 350, 342, 377, 335, 454, 221, 196, 494, 295, 375, 444,\n",
       "        306, 380, 178, 275,  93,  75, 194],\n",
       "       [157, 331, 108, 292,  70, 119, 122, 425, 116, 242, 329, 158, 175,\n",
       "        132, 280, 261,  79, 498, 243, 441]])"
      ]
     },
     "execution_count": 16,
     "metadata": {},
     "output_type": "execute_result"
    }
   ],
   "source": [
    "ebruli = ebru.reshape(10,20)\n",
    "ebruli"
   ]
  },
  {
   "cell_type": "code",
   "execution_count": 17,
   "metadata": {},
   "outputs": [],
   "source": [
    "ebruli2 = ebruli.copy()"
   ]
  },
  {
   "cell_type": "code",
   "execution_count": 18,
   "metadata": {},
   "outputs": [
    {
     "data": {
      "text/plain": [
       "array([[114, 488, 260, 214, 277],\n",
       "       [298, 477, 267, 150, 346],\n",
       "       [316, 248, 328,  85,  98]])"
      ]
     },
     "execution_count": 18,
     "metadata": {},
     "output_type": "execute_result"
    }
   ],
   "source": [
    "test = ebruli2[5:8,10:15]\n",
    "test"
   ]
  },
  {
   "cell_type": "code",
   "execution_count": 19,
   "metadata": {},
   "outputs": [],
   "source": [
    "test[:] = 0"
   ]
  },
  {
   "cell_type": "code",
   "execution_count": 20,
   "metadata": {
    "scrolled": true
   },
   "outputs": [
    {
     "data": {
      "text/plain": [
       "array([[189, 208, 185,  68, 290, 305, 223, 365, 341, 249, 311,  70, 107,\n",
       "        386, 274, 108, 376, 400, 193, 185],\n",
       "       [275,  80, 201, 394, 200, 317, 308, 369, 284, 238, 266, 474,  61,\n",
       "        264, 412, 261, 157, 357, 195, 323],\n",
       "       [339, 105, 413, 104, 362,  91, 253, 451, 301, 242, 236,  85, 202,\n",
       "         90, 479, 424, 212, 224,  88, 260],\n",
       "       [452,  84,  85, 172, 241, 129, 463, 474, 258, 239, 315,  73, 365,\n",
       "        447, 106, 344, 491, 497, 208, 307],\n",
       "       [433, 188, 289, 439, 240, 252, 488, 414, 373, 151, 261, 204,  71,\n",
       "         74, 409, 355, 274, 490, 494, 341],\n",
       "       [432, 352, 299, 253,  64, 191, 112, 311, 191, 436,   0,   0,   0,\n",
       "          0,   0, 216,  78, 101, 496, 323],\n",
       "       [ 97, 496, 123,  54, 219, 313, 206, 324, 332, 140,   0,   0,   0,\n",
       "          0,   0, 305, 476, 216, 238, 128],\n",
       "       [ 82, 343, 140, 378, 209,  93, 484,  64, 408, 299,   0,   0,   0,\n",
       "          0,   0, 424, 209, 108, 114,  95],\n",
       "       [186, 251, 350, 342, 377, 335, 454, 221, 196, 494, 295, 375, 444,\n",
       "        306, 380, 178, 275,  93,  75, 194],\n",
       "       [157, 331, 108, 292,  70, 119, 122, 425, 116, 242, 329, 158, 175,\n",
       "        132, 280, 261,  79, 498, 243, 441]])"
      ]
     },
     "execution_count": 20,
     "metadata": {},
     "output_type": "execute_result"
    }
   ],
   "source": [
    "ebruli2"
   ]
  },
  {
   "cell_type": "raw",
   "metadata": {},
   "source": []
  },
  {
   "cell_type": "code",
   "execution_count": 21,
   "metadata": {},
   "outputs": [
    {
     "data": {
      "text/plain": [
       "array([[189, 208, 185,  68, 290, 305, 223, 365, 341, 249, 311,  70, 107,\n",
       "        386, 274, 108, 376, 400, 193, 185],\n",
       "       [275,  80, 201, 394, 200, 317, 308, 369, 284, 238, 266, 474,  61,\n",
       "        264, 412, 261, 157, 357, 195, 323],\n",
       "       [339, 105, 413, 104, 362,  91, 253, 451, 301, 242, 236,  85, 202,\n",
       "         90, 479, 424, 212, 224,  88, 260],\n",
       "       [452,  84,  85, 172, 241, 129, 463, 474, 258, 239, 315,  73, 365,\n",
       "        447, 106, 344, 491, 497, 208, 307],\n",
       "       [433, 188, 289, 439, 240, 252, 488, 414, 373, 151, 261, 204,  71,\n",
       "         74, 409, 355, 274, 490, 494, 341],\n",
       "       [432, 352, 299, 253,  64, 191, 112, 311, 191, 436, 114, 488, 260,\n",
       "        214, 277, 216,  78, 101, 496, 323],\n",
       "       [ 97, 496, 123,  54, 219, 313, 206, 324, 332, 140, 298, 477, 267,\n",
       "        150, 346, 305, 476, 216, 238, 128],\n",
       "       [ 82, 343, 140, 378, 209,  93, 484,  64, 408, 299, 316, 248, 328,\n",
       "         85,  98, 424, 209, 108, 114,  95],\n",
       "       [186, 251, 350, 342, 377, 335, 454, 221, 196, 494, 295, 375, 444,\n",
       "        306, 380, 178, 275,  93,  75, 194],\n",
       "       [157, 331, 108, 292,  70, 119, 122, 425, 116, 242, 329, 158, 175,\n",
       "        132, 280, 261,  79, 498, 243, 441]])"
      ]
     },
     "execution_count": 21,
     "metadata": {},
     "output_type": "execute_result"
    }
   ],
   "source": [
    "ebruli"
   ]
  },
  {
   "cell_type": "code",
   "execution_count": 22,
   "metadata": {},
   "outputs": [
    {
     "data": {
      "text/plain": [
       "array([[157, 331, 108, 292,  70, 119, 122, 425, 116, 242, 329, 158, 175,\n",
       "        132, 280, 261,  79, 498, 243, 441],\n",
       "       [186, 251, 350, 342, 377, 335, 454, 221, 196, 494, 295, 375, 444,\n",
       "        306, 380, 178, 275,  93,  75, 194],\n",
       "       [ 82, 343, 140, 378, 209,  93, 484,  64, 408, 299, 316, 248, 328,\n",
       "         85,  98, 424, 209, 108, 114,  95]])"
      ]
     },
     "execution_count": 22,
     "metadata": {},
     "output_type": "execute_result"
    }
   ],
   "source": [
    "ebruli[[-1,-2,-3]] #fansiy index havalı indexleme "
   ]
  },
  {
   "cell_type": "code",
   "execution_count": null,
   "metadata": {},
   "outputs": [],
   "source": []
  }
 ],
 "metadata": {
  "kernelspec": {
   "display_name": "Python 3",
   "language": "python",
   "name": "python3"
  },
  "language_info": {
   "codemirror_mode": {
    "name": "ipython",
    "version": 3
   },
   "file_extension": ".py",
   "mimetype": "text/x-python",
   "name": "python",
   "nbconvert_exporter": "python",
   "pygments_lexer": "ipython3",
   "version": "3.7.6"
  }
 },
 "nbformat": 4,
 "nbformat_minor": 4
}
